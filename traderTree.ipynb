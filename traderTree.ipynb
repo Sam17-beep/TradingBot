{
 "cells": [
  {
   "cell_type": "code",
   "execution_count": 10,
   "metadata": {},
   "outputs": [],
   "source": [
    "import numpy as np\n",
    "import pandas as pd\n",
    "import pandas_ta as ta\n",
    "from tqdm import tqdm\n",
    "tqdm.pandas()\n",
    "import datetime\n",
    "import itertools\n",
    "\n",
    "from sklearn.model_selection import train_test_split\n",
    "from sklearn.model_selection import GridSearchCV\n",
    "from sklearn.model_selection import RandomizedSearchCV\n",
    "from sklearn.ensemble import RandomForestClassifier\n",
    "from sklearn.model_selection import cross_val_score\n",
    "from sklearn.linear_model import LogisticRegression\n"
   ]
  },
  {
   "cell_type": "code",
   "execution_count": 11,
   "metadata": {},
   "outputs": [],
   "source": [
    "def setupDF(file):\n",
    "  fileName = '../Datasets/'+ file\n",
    "  df = pd.read_csv(fileName, header=1, parse_dates=True, infer_datetime_format=True, index_col='date')\n",
    "  df.dropna(inplace=True, how='any')\n",
    "  df.drop(columns=['unix', 'Volume USDT', 'tradecount','symbol'], inplace=True)\n",
    "  \n",
    "  return df"
   ]
  },
  {
   "cell_type": "code",
   "execution_count": 12,
   "metadata": {},
   "outputs": [],
   "source": [
    "def createY(df):\n",
    "  df['diff'] = df['close'] - df['open']\n",
    "  df['y'] = df['diff'].apply(lambda x : 1 if x>0 else 0)\n",
    "  df = df[::-1]\n",
    "  df['y'] = df['y'].shift(-1)\n",
    "  testValue = df.iloc[-50:]\n",
    "  df = df[:-1]\n",
    "  return df.drop(columns=['diff'])"
   ]
  },
  {
   "cell_type": "code",
   "execution_count": 13,
   "metadata": {},
   "outputs": [],
   "source": [
    "def applyStrat(df):\n",
    "  strat = ta.Strategy(name='Strategie',\n",
    "                     description='MACD, RSI',\n",
    "                     ta=[\n",
    "                      {'kind':'rsi', 'length':7},\n",
    "                      {'kind':'rsi', 'length':14},\n",
    "                      {'kind':'sma', 'length':7},\n",
    "                      {'kind':'sma', 'length':25},\n",
    "                      {'kind':'macd', 'fast':12 , 'slow':26},\n",
    "                      {'kind':'obv'},\n",
    "                     ])\n",
    "  \n",
    "  df.ta.strategy(strat)\n",
    "  df.dropna(inplace=True, how='any')\n",
    "  return df"
   ]
  },
  {
   "cell_type": "code",
   "execution_count": 14,
   "metadata": {},
   "outputs": [],
   "source": [
    "def getReadyForTraning(file):\n",
    "  df = applyStrat(createY(setupDF(file)))\n",
    "  X = df.drop(columns='y')\n",
    "  y = df['y']\n",
    "  return X,y"
   ]
  },
  {
   "cell_type": "code",
   "execution_count": 27,
   "metadata": {},
   "outputs": [],
   "source": [
    "def modelTrainerTree(X,y):\n",
    "  X_train, X_test, y_train, y_test = train_test_split(X,y, random_state=42)\n",
    "  \n",
    "  rfc = RandomForestClassifier(random_state=42)\n",
    "  \n",
    "  param_grid = { \n",
    "        'max_depth' : [2,5,8,12],\n",
    "        'min_samples_leaf' : [1,3,5],\n",
    "        'n_estimators' : [64, 128, 256, 512]\n",
    "    } \n",
    "  \n",
    "  CV_rfc = GridSearchCV(rfc, param_grid=param_grid, n_jobs=-1, verbose=1)\n",
    "  CV_rfc.fit(X_train,y_train)\n",
    "  \n",
    "  return CV_rfc.best_params_, CV_rfc.best_estimator_.score(X_test,y_test), CV_rfc.best_estimator_\n"
   ]
  },
  {
   "cell_type": "code",
   "execution_count": 28,
   "metadata": {},
   "outputs": [],
   "source": [
    "def getNamesOfDataFile():\n",
    "  from os import listdir\n",
    "  return [f for f in listdir('/Users/sam/Worspace/python/Datasets') if f != '.DS_Store']\n"
   ]
  },
  {
   "cell_type": "code",
   "execution_count": 29,
   "metadata": {},
   "outputs": [
    {
     "name": "stderr",
     "output_type": "stream",
     "text": [
      "  0%|          | 0/6 [00:00<?, ?it/s]"
     ]
    },
    {
     "name": "stdout",
     "output_type": "stream",
     "text": [
      "Fitting 5 folds for each of 48 candidates, totalling 240 fits\n"
     ]
    },
    {
     "name": "stderr",
     "output_type": "stream",
     "text": [
      " 17%|█▋        | 1/6 [02:45<13:45, 165.17s/it]"
     ]
    },
    {
     "name": "stdout",
     "output_type": "stream",
     "text": [
      "Fitting 5 folds for each of 48 candidates, totalling 240 fits\n"
     ]
    },
    {
     "name": "stderr",
     "output_type": "stream",
     "text": [
      " 33%|███▎      | 2/6 [05:43<11:32, 173.17s/it]"
     ]
    },
    {
     "name": "stdout",
     "output_type": "stream",
     "text": [
      "Fitting 5 folds for each of 48 candidates, totalling 240 fits\n"
     ]
    },
    {
     "name": "stderr",
     "output_type": "stream",
     "text": [
      " 50%|█████     | 3/6 [08:47<08:53, 177.88s/it]"
     ]
    },
    {
     "name": "stdout",
     "output_type": "stream",
     "text": [
      "Fitting 5 folds for each of 48 candidates, totalling 240 fits\n"
     ]
    },
    {
     "name": "stderr",
     "output_type": "stream",
     "text": [
      " 67%|██████▋   | 4/6 [11:55<06:04, 182.08s/it]"
     ]
    },
    {
     "name": "stdout",
     "output_type": "stream",
     "text": [
      "Fitting 5 folds for each of 48 candidates, totalling 240 fits\n"
     ]
    },
    {
     "name": "stderr",
     "output_type": "stream",
     "text": [
      " 83%|████████▎ | 5/6 [14:58<03:02, 182.22s/it]"
     ]
    },
    {
     "name": "stdout",
     "output_type": "stream",
     "text": [
      "Fitting 5 folds for each of 48 candidates, totalling 240 fits\n"
     ]
    },
    {
     "name": "stderr",
     "output_type": "stream",
     "text": [
      "100%|██████████| 6/6 [18:05<00:00, 180.92s/it]\n"
     ]
    }
   ],
   "source": [
    "models = []\n",
    "for f in tqdm(getNamesOfDataFile()):\n",
    "  X, y = getReadyForTraning(f)\n",
    "  bestParams, score, model = modelTrainerTree(X,y)\n",
    "  models.append({'file':f, 'model':model, 'bestParams':bestParams, 'testScore':score})\n"
   ]
  },
  {
   "cell_type": "code",
   "execution_count": 30,
   "metadata": {},
   "outputs": [
    {
     "data": {
      "text/html": [
       "<div>\n",
       "<style scoped>\n",
       "    .dataframe tbody tr th:only-of-type {\n",
       "        vertical-align: middle;\n",
       "    }\n",
       "\n",
       "    .dataframe tbody tr th {\n",
       "        vertical-align: top;\n",
       "    }\n",
       "\n",
       "    .dataframe thead th {\n",
       "        text-align: right;\n",
       "    }\n",
       "</style>\n",
       "<table border=\"1\" class=\"dataframe\">\n",
       "  <thead>\n",
       "    <tr style=\"text-align: right;\">\n",
       "      <th></th>\n",
       "      <th>file</th>\n",
       "      <th>model</th>\n",
       "      <th>bestParams</th>\n",
       "      <th>testScore</th>\n",
       "    </tr>\n",
       "  </thead>\n",
       "  <tbody>\n",
       "    <tr>\n",
       "      <th>0</th>\n",
       "      <td>Binance_ADAUSDT_1h.csv</td>\n",
       "      <td>(DecisionTreeClassifier(max_depth=5, max_featu...</td>\n",
       "      <td>{'max_depth': 5, 'min_samples_leaf': 1, 'n_est...</td>\n",
       "      <td>0.532200</td>\n",
       "    </tr>\n",
       "    <tr>\n",
       "      <th>1</th>\n",
       "      <td>Binance_ETHUSDT_1h.csv</td>\n",
       "      <td>(DecisionTreeClassifier(max_depth=8, max_featu...</td>\n",
       "      <td>{'max_depth': 8, 'min_samples_leaf': 3, 'n_est...</td>\n",
       "      <td>0.523583</td>\n",
       "    </tr>\n",
       "    <tr>\n",
       "      <th>2</th>\n",
       "      <td>Binance_BNBUSDT_1h.csv</td>\n",
       "      <td>(DecisionTreeClassifier(max_depth=8, max_featu...</td>\n",
       "      <td>{'max_depth': 8, 'min_samples_leaf': 5, 'n_est...</td>\n",
       "      <td>0.506803</td>\n",
       "    </tr>\n",
       "    <tr>\n",
       "      <th>3</th>\n",
       "      <td>Binance_LTCUSDT_1h.csv</td>\n",
       "      <td>(DecisionTreeClassifier(max_depth=8, max_featu...</td>\n",
       "      <td>{'max_depth': 8, 'min_samples_leaf': 3, 'n_est...</td>\n",
       "      <td>0.540363</td>\n",
       "    </tr>\n",
       "    <tr>\n",
       "      <th>4</th>\n",
       "      <td>Binance_XRPUSDT_1h.csv</td>\n",
       "      <td>(DecisionTreeClassifier(max_depth=2, max_featu...</td>\n",
       "      <td>{'max_depth': 2, 'min_samples_leaf': 1, 'n_est...</td>\n",
       "      <td>0.536054</td>\n",
       "    </tr>\n",
       "    <tr>\n",
       "      <th>5</th>\n",
       "      <td>Binance_BTCUSDT_1h.csv</td>\n",
       "      <td>(DecisionTreeClassifier(max_depth=2, max_featu...</td>\n",
       "      <td>{'max_depth': 2, 'min_samples_leaf': 3, 'n_est...</td>\n",
       "      <td>0.532426</td>\n",
       "    </tr>\n",
       "  </tbody>\n",
       "</table>\n",
       "</div>"
      ],
      "text/plain": [
       "                     file                                              model  \\\n",
       "0  Binance_ADAUSDT_1h.csv  (DecisionTreeClassifier(max_depth=5, max_featu...   \n",
       "1  Binance_ETHUSDT_1h.csv  (DecisionTreeClassifier(max_depth=8, max_featu...   \n",
       "2  Binance_BNBUSDT_1h.csv  (DecisionTreeClassifier(max_depth=8, max_featu...   \n",
       "3  Binance_LTCUSDT_1h.csv  (DecisionTreeClassifier(max_depth=8, max_featu...   \n",
       "4  Binance_XRPUSDT_1h.csv  (DecisionTreeClassifier(max_depth=2, max_featu...   \n",
       "5  Binance_BTCUSDT_1h.csv  (DecisionTreeClassifier(max_depth=2, max_featu...   \n",
       "\n",
       "                                          bestParams  testScore  \n",
       "0  {'max_depth': 5, 'min_samples_leaf': 1, 'n_est...   0.532200  \n",
       "1  {'max_depth': 8, 'min_samples_leaf': 3, 'n_est...   0.523583  \n",
       "2  {'max_depth': 8, 'min_samples_leaf': 5, 'n_est...   0.506803  \n",
       "3  {'max_depth': 8, 'min_samples_leaf': 3, 'n_est...   0.540363  \n",
       "4  {'max_depth': 2, 'min_samples_leaf': 1, 'n_est...   0.536054  \n",
       "5  {'max_depth': 2, 'min_samples_leaf': 3, 'n_est...   0.532426  "
      ]
     },
     "execution_count": 30,
     "metadata": {},
     "output_type": "execute_result"
    }
   ],
   "source": [
    "pd.DataFrame(models)"
   ]
  },
  {
   "cell_type": "code",
   "execution_count": null,
   "metadata": {},
   "outputs": [],
   "source": []
  }
 ],
 "metadata": {
  "kernelspec": {
   "display_name": "Python 3.9.7 64-bit",
   "language": "python",
   "name": "python3"
  },
  "language_info": {
   "codemirror_mode": {
    "name": "ipython",
    "version": 3
   },
   "file_extension": ".py",
   "mimetype": "text/x-python",
   "name": "python",
   "nbconvert_exporter": "python",
   "pygments_lexer": "ipython3",
   "version": "3.9.7"
  },
  "orig_nbformat": 4,
  "vscode": {
   "interpreter": {
    "hash": "aee8b7b246df8f9039afb4144a1f6fd8d2ca17a180786b69acc140d282b71a49"
   }
  }
 },
 "nbformat": 4,
 "nbformat_minor": 2
}
