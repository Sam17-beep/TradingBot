{
 "cells": [
  {
   "cell_type": "code",
   "execution_count": 29,
   "metadata": {},
   "outputs": [],
   "source": [
    "import numpy as np\n",
    "import pandas as pd\n",
    "import pandas_ta as ta\n",
    "from tqdm import tqdm\n",
    "tqdm.pandas()\n",
    "import datetime\n",
    "import itertools\n",
    "import pickle\n",
    "from sklearn.model_selection import train_test_split\n",
    "from sklearn.model_selection import GridSearchCV\n",
    "from sklearn.model_selection import RandomizedSearchCV\n",
    "from sklearn.ensemble import RandomForestClassifier\n",
    "from sklearn.model_selection import cross_val_score\n",
    "from sklearn.linear_model import LogisticRegression\n"
   ]
  },
  {
   "cell_type": "code",
   "execution_count": 2,
   "metadata": {},
   "outputs": [],
   "source": [
    "def setupDF(file):\n",
    "  fileName = 'Datasets/'+ file\n",
    "  df = pd.read_csv(fileName, header=1, parse_dates=True, infer_datetime_format=True, index_col='date')\n",
    "  df.dropna(inplace=True, how='any')\n",
    "  df.drop(columns=['unix', 'Volume USDT', 'tradecount','symbol'], inplace=True)\n",
    "  \n",
    "  return df"
   ]
  },
  {
   "cell_type": "code",
   "execution_count": 3,
   "metadata": {},
   "outputs": [],
   "source": [
    "def createY(df):\n",
    "  df['diff'] = df['close'] - df['open']\n",
    "  df['y'] = df['diff'].apply(lambda x : 1 if x>0 else 0)\n",
    "  df = df[::-1]\n",
    "  df['y'] = df['y'].shift(-1)\n",
    "  testValue = df.iloc[-50:]\n",
    "  df = df[:-1]\n",
    "  return df.drop(columns=['diff'])"
   ]
  },
  {
   "cell_type": "code",
   "execution_count": 4,
   "metadata": {},
   "outputs": [],
   "source": [
    "def applyStrat(df):\n",
    "  strat = ta.Strategy(name='Strategie',\n",
    "                     description='MACD, RSI',\n",
    "                     ta=[\n",
    "                      {'kind':'rsi', 'length':7},\n",
    "                      {'kind':'rsi', 'length':14},\n",
    "                      {'kind':'sma', 'length':7},\n",
    "                      {'kind':'sma', 'length':25},\n",
    "                      {'kind':'macd', 'fast':12 , 'slow':26},\n",
    "                      {'kind':'obv'},\n",
    "                     ])\n",
    "  \n",
    "  df.ta.strategy(strat)\n",
    "  df.dropna(inplace=True, how='any')\n",
    "  return df"
   ]
  },
  {
   "cell_type": "code",
   "execution_count": 5,
   "metadata": {},
   "outputs": [],
   "source": [
    "def getReadyForTraning(file):\n",
    "  df = applyStrat(createY(setupDF(file)))\n",
    "  \n",
    "  return df"
   ]
  },
  {
   "cell_type": "code",
   "execution_count": 14,
   "metadata": {},
   "outputs": [],
   "source": [
    "def modelTrainerLinear(X,y):\n",
    "  X_train, X_test, y_train, y_test = train_test_split(X,y, random_state=42)\n",
    "  lr = LogisticRegression(random_state=42, solver='newton-cg', max_iter=10000)\n",
    "  lr.fit(X_train,y_train)\n",
    "  \n",
    "  return lr, lr.score(X_test,y_test)\n"
   ]
  },
  {
   "cell_type": "code",
   "execution_count": 2,
   "metadata": {},
   "outputs": [],
   "source": [
    "def getNamesOfDataFile():\n",
    "  from os import listdir\n",
    "  return [f for f in listdir('Datasets') if f != '.DS_Store']\n"
   ]
  },
  {
   "cell_type": "code",
   "execution_count": 30,
   "metadata": {},
   "outputs": [],
   "source": [
    "def saveModel(name, model):\n",
    "  filename='Models/'+name+'_model.pkl'\n",
    "  with open(filename, 'wb') as file:\n",
    "    pickle.dump(model, file)"
   ]
  },
  {
   "cell_type": "code",
   "execution_count": 31,
   "metadata": {},
   "outputs": [
    {
     "name": "stderr",
     "output_type": "stream",
     "text": [
      "/Users/sam/Library/Python/3.9/lib/python/site-packages/scipy/optimize/_linesearch.py:456: LineSearchWarning: The line search algorithm did not converge\n",
      "  warn('The line search algorithm did not converge', LineSearchWarning)\n",
      "/Users/sam/Library/Python/3.9/lib/python/site-packages/scipy/optimize/_linesearch.py:305: LineSearchWarning: The line search algorithm did not converge\n",
      "  warn('The line search algorithm did not converge', LineSearchWarning)\n",
      "/Users/sam/Library/Python/3.9/lib/python/site-packages/scipy/optimize/_linesearch.py:415: LineSearchWarning: Rounding errors prevent the line search from converging\n",
      "  warn(msg, LineSearchWarning)\n",
      "/Users/sam/Library/Python/3.9/lib/python/site-packages/sklearn/utils/optimize.py:203: UserWarning: Line Search failed\n",
      "  warnings.warn(\"Line Search failed\")\n",
      "/Users/sam/Library/Python/3.9/lib/python/site-packages/scipy/optimize/_linesearch.py:456: LineSearchWarning: The line search algorithm did not converge\n",
      "  warn('The line search algorithm did not converge', LineSearchWarning)\n",
      "/Users/sam/Library/Python/3.9/lib/python/site-packages/scipy/optimize/_linesearch.py:305: LineSearchWarning: The line search algorithm did not converge\n",
      "  warn('The line search algorithm did not converge', LineSearchWarning)\n",
      "/Users/sam/Library/Python/3.9/lib/python/site-packages/scipy/optimize/_linesearch.py:415: LineSearchWarning: Rounding errors prevent the line search from converging\n",
      "  warn(msg, LineSearchWarning)\n",
      "/Users/sam/Library/Python/3.9/lib/python/site-packages/sklearn/utils/optimize.py:203: UserWarning: Line Search failed\n",
      "  warnings.warn(\"Line Search failed\")\n",
      "/Users/sam/Library/Python/3.9/lib/python/site-packages/scipy/optimize/_linesearch.py:456: LineSearchWarning: The line search algorithm did not converge\n",
      "  warn('The line search algorithm did not converge', LineSearchWarning)\n",
      "/Users/sam/Library/Python/3.9/lib/python/site-packages/scipy/optimize/_linesearch.py:305: LineSearchWarning: The line search algorithm did not converge\n",
      "  warn('The line search algorithm did not converge', LineSearchWarning)\n",
      "/Users/sam/Library/Python/3.9/lib/python/site-packages/scipy/optimize/_linesearch.py:415: LineSearchWarning: Rounding errors prevent the line search from converging\n",
      "  warn(msg, LineSearchWarning)\n",
      "/Users/sam/Library/Python/3.9/lib/python/site-packages/sklearn/utils/optimize.py:203: UserWarning: Line Search failed\n",
      "  warnings.warn(\"Line Search failed\")\n",
      "/Users/sam/Library/Python/3.9/lib/python/site-packages/scipy/optimize/_linesearch.py:456: LineSearchWarning: The line search algorithm did not converge\n",
      "  warn('The line search algorithm did not converge', LineSearchWarning)\n",
      "/Users/sam/Library/Python/3.9/lib/python/site-packages/scipy/optimize/_linesearch.py:305: LineSearchWarning: The line search algorithm did not converge\n",
      "  warn('The line search algorithm did not converge', LineSearchWarning)\n",
      "/Users/sam/Library/Python/3.9/lib/python/site-packages/scipy/optimize/_linesearch.py:415: LineSearchWarning: Rounding errors prevent the line search from converging\n",
      "  warn(msg, LineSearchWarning)\n",
      "/Users/sam/Library/Python/3.9/lib/python/site-packages/sklearn/utils/optimize.py:203: UserWarning: Line Search failed\n",
      "  warnings.warn(\"Line Search failed\")\n",
      "/Users/sam/Library/Python/3.9/lib/python/site-packages/scipy/optimize/_linesearch.py:456: LineSearchWarning: The line search algorithm did not converge\n",
      "  warn('The line search algorithm did not converge', LineSearchWarning)\n",
      "/Users/sam/Library/Python/3.9/lib/python/site-packages/scipy/optimize/_linesearch.py:305: LineSearchWarning: The line search algorithm did not converge\n",
      "  warn('The line search algorithm did not converge', LineSearchWarning)\n",
      "/Users/sam/Library/Python/3.9/lib/python/site-packages/scipy/optimize/_linesearch.py:415: LineSearchWarning: Rounding errors prevent the line search from converging\n",
      "  warn(msg, LineSearchWarning)\n",
      "/Users/sam/Library/Python/3.9/lib/python/site-packages/sklearn/utils/optimize.py:203: UserWarning: Line Search failed\n",
      "  warnings.warn(\"Line Search failed\")\n",
      "/Users/sam/Library/Python/3.9/lib/python/site-packages/scipy/optimize/_linesearch.py:456: LineSearchWarning: The line search algorithm did not converge\n",
      "  warn('The line search algorithm did not converge', LineSearchWarning)\n",
      "/Users/sam/Library/Python/3.9/lib/python/site-packages/scipy/optimize/_linesearch.py:305: LineSearchWarning: The line search algorithm did not converge\n",
      "  warn('The line search algorithm did not converge', LineSearchWarning)\n",
      "/Users/sam/Library/Python/3.9/lib/python/site-packages/scipy/optimize/_linesearch.py:415: LineSearchWarning: Rounding errors prevent the line search from converging\n",
      "  warn(msg, LineSearchWarning)\n",
      "/Users/sam/Library/Python/3.9/lib/python/site-packages/sklearn/utils/optimize.py:203: UserWarning: Line Search failed\n",
      "  warnings.warn(\"Line Search failed\")\n"
     ]
    }
   ],
   "source": [
    "models = []\n",
    "\n",
    "for f in getNamesOfDataFile():\n",
    "  df = getReadyForTraning(f)\n",
    "  y = df['y']\n",
    "\n",
    "  # l=[]\n",
    "  # a = list(df.columns)\n",
    "  # b = [x for x in a if 'y' not in x]\n",
    "  # for i in range(2,4):\n",
    "  #   l.append(list(itertools.combinations(b,i)))\n",
    "  # cols = [item for sublist in l for item in sublist]\n",
    "  # for col in cols: \n",
    "  #   X = df[list(col)]\n",
    "  #  scores = []\n",
    "  # for i in range(5):\n",
    "  \n",
    "  X = df.drop(columns='y')   \n",
    "    \n",
    "  model, score = modelTrainerLinear(X,y)\n",
    "  name = f.split('_')[1]\n",
    "  saveModel(name, model)\n"
   ]
  },
  {
   "cell_type": "code",
   "execution_count": 26,
   "metadata": {},
   "outputs": [
    {
     "data": {
      "text/html": [
       "<div>\n",
       "<style scoped>\n",
       "    .dataframe tbody tr th:only-of-type {\n",
       "        vertical-align: middle;\n",
       "    }\n",
       "\n",
       "    .dataframe tbody tr th {\n",
       "        vertical-align: top;\n",
       "    }\n",
       "\n",
       "    .dataframe thead th {\n",
       "        text-align: right;\n",
       "    }\n",
       "</style>\n",
       "<table border=\"1\" class=\"dataframe\">\n",
       "  <thead>\n",
       "    <tr style=\"text-align: right;\">\n",
       "      <th></th>\n",
       "      <th>file</th>\n",
       "      <th>model</th>\n",
       "      <th>testScoreMean</th>\n",
       "      <th>cols</th>\n",
       "    </tr>\n",
       "  </thead>\n",
       "  <tbody>\n",
       "    <tr>\n",
       "      <th>1629</th>\n",
       "      <td>Binance_XRPUSDT_1h.csv</td>\n",
       "      <td>LogisticRegression(max_iter=10000, random_stat...</td>\n",
       "      <td>0.544218</td>\n",
       "      <td>(high, RSI_7, SMA_25)</td>\n",
       "    </tr>\n",
       "    <tr>\n",
       "      <th>1372</th>\n",
       "      <td>Binance_LTCUSDT_1h.csv</td>\n",
       "      <td>LogisticRegression(max_iter=10000, random_stat...</td>\n",
       "      <td>0.544218</td>\n",
       "      <td>(Volume LTC, RSI_7, RSI_14)</td>\n",
       "    </tr>\n",
       "    <tr>\n",
       "      <th>2100</th>\n",
       "      <td>Binance_BTCUSDT_1h.csv</td>\n",
       "      <td>LogisticRegression(max_iter=10000, random_stat...</td>\n",
       "      <td>0.542857</td>\n",
       "      <td>(Volume BTC, RSI_7, RSI_14)</td>\n",
       "    </tr>\n",
       "    <tr>\n",
       "      <th>519</th>\n",
       "      <td>Binance_ETHUSDT_1h.csv</td>\n",
       "      <td>LogisticRegression(max_iter=10000, random_stat...</td>\n",
       "      <td>0.537188</td>\n",
       "      <td>(high, close, RSI_7)</td>\n",
       "    </tr>\n",
       "    <tr>\n",
       "      <th>284</th>\n",
       "      <td>Binance_ADAUSDT_1h.csv</td>\n",
       "      <td>LogisticRegression(max_iter=10000, random_stat...</td>\n",
       "      <td>0.532653</td>\n",
       "      <td>(Volume ADA, RSI_7, MACDh_12_26_9)</td>\n",
       "    </tr>\n",
       "    <tr>\n",
       "      <th>903</th>\n",
       "      <td>Binance_BNBUSDT_1h.csv</td>\n",
       "      <td>LogisticRegression(max_iter=10000, random_stat...</td>\n",
       "      <td>0.529252</td>\n",
       "      <td>(high, RSI_7, MACDh_12_26_9)</td>\n",
       "    </tr>\n",
       "  </tbody>\n",
       "</table>\n",
       "</div>"
      ],
      "text/plain": [
       "                        file  \\\n",
       "1629  Binance_XRPUSDT_1h.csv   \n",
       "1372  Binance_LTCUSDT_1h.csv   \n",
       "2100  Binance_BTCUSDT_1h.csv   \n",
       "519   Binance_ETHUSDT_1h.csv   \n",
       "284   Binance_ADAUSDT_1h.csv   \n",
       "903   Binance_BNBUSDT_1h.csv   \n",
       "\n",
       "                                                  model  testScoreMean  \\\n",
       "1629  LogisticRegression(max_iter=10000, random_stat...       0.544218   \n",
       "1372  LogisticRegression(max_iter=10000, random_stat...       0.544218   \n",
       "2100  LogisticRegression(max_iter=10000, random_stat...       0.542857   \n",
       "519   LogisticRegression(max_iter=10000, random_stat...       0.537188   \n",
       "284   LogisticRegression(max_iter=10000, random_stat...       0.532653   \n",
       "903   LogisticRegression(max_iter=10000, random_stat...       0.529252   \n",
       "\n",
       "                                    cols  \n",
       "1629               (high, RSI_7, SMA_25)  \n",
       "1372         (Volume LTC, RSI_7, RSI_14)  \n",
       "2100         (Volume BTC, RSI_7, RSI_14)  \n",
       "519                 (high, close, RSI_7)  \n",
       "284   (Volume ADA, RSI_7, MACDh_12_26_9)  \n",
       "903         (high, RSI_7, MACDh_12_26_9)  "
      ]
     },
     "execution_count": 26,
     "metadata": {},
     "output_type": "execute_result"
    }
   ],
   "source": [
    "pd.DataFrame(models).sort_values('testScoreMean', ascending=False).drop_duplicates(subset=['file'])"
   ]
  },
  {
   "cell_type": "code",
   "execution_count": 25,
   "metadata": {},
   "outputs": [
    {
     "data": {
      "text/plain": [
       "0.5383975812547241"
      ]
     },
     "execution_count": 25,
     "metadata": {},
     "output_type": "execute_result"
    }
   ],
   "source": [
    "np.mean(pd.DataFrame(models).sort_values('testScoreMean', ascending=False).drop_duplicates(subset=['file'])['testScoreMean'])"
   ]
  },
  {
   "cell_type": "code",
   "execution_count": 1,
   "metadata": {},
   "outputs": [
    {
     "ename": "NameError",
     "evalue": "name 'model' is not defined",
     "output_type": "error",
     "traceback": [
      "\u001b[0;31m---------------------------------------------------------------------------\u001b[0m",
      "\u001b[0;31mNameError\u001b[0m                                 Traceback (most recent call last)",
      "\u001b[1;32m/Users/sam/Worspace/python/TradingBot/traderLinear.ipynb Cellule 12\u001b[0m in \u001b[0;36m<cell line: 1>\u001b[0;34m()\u001b[0m\n\u001b[0;32m----> <a href='vscode-notebook-cell:/Users/sam/Worspace/python/TradingBot/traderLinear.ipynb#X14sZmlsZQ%3D%3D?line=0'>1</a>\u001b[0m model\u001b[39m.\u001b[39mpredict_proba(X_test)\n",
      "\u001b[0;31mNameError\u001b[0m: name 'model' is not defined"
     ]
    }
   ],
   "source": []
  },
  {
   "cell_type": "code",
   "execution_count": 14,
   "metadata": {},
   "outputs": [],
   "source": [
    "def save34Days():\n",
    "  for f in getNamesOfDataFile():\n",
    "    fileName = 'Datasets/'+ f\n",
    "    df = pd.read_csv(fileName, header=1, parse_dates=True, infer_datetime_format=True,index_col='date')\n",
    "    df.dropna(inplace=True, how='any')\n",
    "    df.drop(columns=['unix', 'Volume USDT', 'tradecount','symbol'], inplace=True)\n",
    "    last48Hours = df[-48:]\n",
    "  \n",
    "    last48Hours.to_pickle('OldData/last48'+f.split('_')[1]+'.pkl')"
   ]
  },
  {
   "cell_type": "code",
   "execution_count": 15,
   "metadata": {},
   "outputs": [],
   "source": [
    "save34Days()"
   ]
  },
  {
   "cell_type": "code",
   "execution_count": null,
   "metadata": {},
   "outputs": [],
   "source": []
  }
 ],
 "metadata": {
  "kernelspec": {
   "display_name": "Python 3.9.7 64-bit",
   "language": "python",
   "name": "python3"
  },
  "language_info": {
   "codemirror_mode": {
    "name": "ipython",
    "version": 3
   },
   "file_extension": ".py",
   "mimetype": "text/x-python",
   "name": "python",
   "nbconvert_exporter": "python",
   "pygments_lexer": "ipython3",
   "version": "3.9.7"
  },
  "orig_nbformat": 4,
  "vscode": {
   "interpreter": {
    "hash": "aee8b7b246df8f9039afb4144a1f6fd8d2ca17a180786b69acc140d282b71a49"
   }
  }
 },
 "nbformat": 4,
 "nbformat_minor": 2
}
