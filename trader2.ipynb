{
 "cells": [
  {
   "cell_type": "code",
   "execution_count": 1,
   "metadata": {},
   "outputs": [],
   "source": [
    "import numpy as np\n",
    "import pandas as pd\n",
    "import pandas_ta as ta\n",
    "import datetime\n",
    "from tqdm import tqdm\n",
    "tqdm.pandas()"
   ]
  },
  {
   "cell_type": "code",
   "execution_count": null,
   "metadata": {},
   "outputs": [],
   "source": []
  },
  {
   "cell_type": "code",
   "execution_count": 2,
   "metadata": {},
   "outputs": [],
   "source": [
    "df  = pd.read_csv('../Datasets/Binance_BTCUSDT_d.csv', header=1, usecols=['unix','open','high','low','close', 'Volume BTC'], nrows=1680)\n",
    "df.dropna(inplace=True, how='any')"
   ]
  },
  {
   "cell_type": "code",
   "execution_count": 3,
   "metadata": {},
   "outputs": [],
   "source": [
    "df['date']=pd.to_datetime(df['unix'],unit='ms')\n",
    "df.drop(columns='unix', inplace=True)\n"
   ]
  },
  {
   "cell_type": "code",
   "execution_count": 4,
   "metadata": {},
   "outputs": [],
   "source": [
    "df.set_index('date', inplace=True)"
   ]
  },
  {
   "cell_type": "code",
   "execution_count": 5,
   "metadata": {},
   "outputs": [],
   "source": [
    "strat1 = ta.Strategy(name='Strategie 1',\n",
    "                     description='MACD, RSI, EMA12, EMA26, Stochastic Oscillator',\n",
    "                     ta=[\n",
    "                       {'kind':'macd', 'fast':12 , 'slow':26},\n",
    "                       {'kind':'ema', 'length':12},\n",
    "                       {'kind':'ema', 'length':26},\n",
    "                       {'kind':'stoch'},\n",
    "                       {'kind':'rsi'},\n",
    "                       \n",
    "                     ])"
   ]
  },
  {
   "cell_type": "code",
   "execution_count": 6,
   "metadata": {},
   "outputs": [],
   "source": [
    "df.ta.strategy(strat1)\n"
   ]
  },
  {
   "cell_type": "code",
   "execution_count": 7,
   "metadata": {},
   "outputs": [],
   "source": [
    "df = df.iloc[33:]"
   ]
  },
  {
   "cell_type": "code",
   "execution_count": 8,
   "metadata": {},
   "outputs": [
    {
     "name": "stderr",
     "output_type": "stream",
     "text": [
      "/var/folders/51/frnt2kf50852hky9z_b7jx3m0000gn/T/ipykernel_79992/462976041.py:1: SettingWithCopyWarning: \n",
      "A value is trying to be set on a copy of a slice from a DataFrame.\n",
      "Try using .loc[row_indexer,col_indexer] = value instead\n",
      "\n",
      "See the caveats in the documentation: https://pandas.pydata.org/pandas-docs/stable/user_guide/indexing.html#returning-a-view-versus-a-copy\n",
      "  df['diff'] = df['close'] - df['open']\n"
     ]
    }
   ],
   "source": [
    "df['diff'] = df['close'] - df['open']"
   ]
  },
  {
   "cell_type": "code",
   "execution_count": 9,
   "metadata": {},
   "outputs": [
    {
     "name": "stderr",
     "output_type": "stream",
     "text": [
      "100%|██████████| 1647/1647 [00:00<00:00, 562679.70it/s]\n",
      "/var/folders/51/frnt2kf50852hky9z_b7jx3m0000gn/T/ipykernel_79992/2545719035.py:7: SettingWithCopyWarning: \n",
      "A value is trying to be set on a copy of a slice from a DataFrame.\n",
      "Try using .loc[row_indexer,col_indexer] = value instead\n",
      "\n",
      "See the caveats in the documentation: https://pandas.pydata.org/pandas-docs/stable/user_guide/indexing.html#returning-a-view-versus-a-copy\n",
      "  df['y'] = df['diff'].progress_apply(simplifier)\n"
     ]
    }
   ],
   "source": [
    "def simplifier(val):\n",
    "  if(val > 50):\n",
    "    return 2\n",
    "  elif(val<-50):\n",
    "    return 0\n",
    "  return 1\n",
    "df['y'] = df['diff'].progress_apply(simplifier)"
   ]
  },
  {
   "cell_type": "code",
   "execution_count": 10,
   "metadata": {},
   "outputs": [],
   "source": [
    "from sklearn.model_selection import train_test_split"
   ]
  },
  {
   "cell_type": "code",
   "execution_count": 11,
   "metadata": {},
   "outputs": [],
   "source": [
    "df = df[::-1]"
   ]
  },
  {
   "cell_type": "code",
   "execution_count": 12,
   "metadata": {},
   "outputs": [],
   "source": [
    "X = df.drop(columns=['diff','y'])\n",
    "y = df['y']"
   ]
  },
  {
   "cell_type": "code",
   "execution_count": 13,
   "metadata": {},
   "outputs": [],
   "source": [
    "X_train, X_test, y_train, y_test = train_test_split(X, y, shuffle=False, train_size=0.9)"
   ]
  },
  {
   "cell_type": "code",
   "execution_count": 14,
   "metadata": {},
   "outputs": [],
   "source": [
    "from sklearn.ensemble import GradientBoostingClassifier"
   ]
  },
  {
   "cell_type": "code",
   "execution_count": 15,
   "metadata": {},
   "outputs": [
    {
     "ename": "ValueError",
     "evalue": "criterion='friedmen_mse' is not supported. Use criterion='friedman_mse' or 'squared_error' instead, as trees should use a squared error criterion in Gradient Boosting.",
     "output_type": "error",
     "traceback": [
      "\u001b[0;31m---------------------------------------------------------------------------\u001b[0m",
      "\u001b[0;31mValueError\u001b[0m                                Traceback (most recent call last)",
      "\u001b[1;32m/Users/sam/Worspace/python/TradingBot/trader2.ipynb Cellule 16\u001b[0m in \u001b[0;36m<cell line: 1>\u001b[0;34m()\u001b[0m\n\u001b[0;32m----> <a href='vscode-notebook-cell:/Users/sam/Worspace/python/TradingBot/trader2.ipynb#ch0000014?line=0'>1</a>\u001b[0m clf \u001b[39m=\u001b[39m GradientBoostingClassifier(criterion\u001b[39m=\u001b[39;49m\u001b[39m'\u001b[39;49m\u001b[39mfriedmen_mse\u001b[39;49m\u001b[39m'\u001b[39;49m,learning_rate\u001b[39m=\u001b[39;49m\u001b[39m0.75\u001b[39;49m,loss\u001b[39m=\u001b[39;49m\u001b[39m'\u001b[39;49m\u001b[39mlog_loss\u001b[39;49m\u001b[39m'\u001b[39;49m,\n\u001b[1;32m      <a href='vscode-notebook-cell:/Users/sam/Worspace/python/TradingBot/trader2.ipynb#ch0000014?line=1'>2</a>\u001b[0m                                  max_depth\u001b[39m=\u001b[39;49m\u001b[39m3\u001b[39;49m,max_features\u001b[39m=\u001b[39;49m\u001b[39m'\u001b[39;49m\u001b[39mlog2\u001b[39;49m\u001b[39m'\u001b[39;49m,min_samples_leaf\u001b[39m=\u001b[39;49m\u001b[39m0.1\u001b[39;49m,min_samples_split\u001b[39m=\u001b[39;49m\u001b[39m0.1\u001b[39;49m,\n\u001b[1;32m      <a href='vscode-notebook-cell:/Users/sam/Worspace/python/TradingBot/trader2.ipynb#ch0000014?line=2'>3</a>\u001b[0m                                  n_estimators\u001b[39m=\u001b[39;49m\u001b[39m100\u001b[39;49m, subsample\u001b[39m=\u001b[39;49m\u001b[39m0.5\u001b[39;49m, random_state\u001b[39m=\u001b[39;49m\u001b[39m1\u001b[39;49m)\u001b[39m.\u001b[39;49mfit(X_train,y_train)\n\u001b[1;32m      <a href='vscode-notebook-cell:/Users/sam/Worspace/python/TradingBot/trader2.ipynb#ch0000014?line=3'>4</a>\u001b[0m clf\u001b[39m.\u001b[39mscore(X_test,y_test)\n",
      "File \u001b[0;32m~/Library/Python/3.9/lib/python/site-packages/sklearn/ensemble/_gb.py:533\u001b[0m, in \u001b[0;36mBaseGradientBoosting.fit\u001b[0;34m(self, X, y, sample_weight, monitor)\u001b[0m\n\u001b[1;32m    531\u001b[0m possible_criterion \u001b[39m=\u001b[39m (\u001b[39m\"\u001b[39m\u001b[39mfriedman_mse\u001b[39m\u001b[39m\"\u001b[39m, \u001b[39m\"\u001b[39m\u001b[39msquared_error\u001b[39m\u001b[39m\"\u001b[39m, \u001b[39m\"\u001b[39m\u001b[39mmse\u001b[39m\u001b[39m\"\u001b[39m)\n\u001b[1;32m    532\u001b[0m \u001b[39mif\u001b[39;00m \u001b[39mself\u001b[39m\u001b[39m.\u001b[39mcriterion \u001b[39mnot\u001b[39;00m \u001b[39min\u001b[39;00m possible_criterion:\n\u001b[0;32m--> 533\u001b[0m     \u001b[39mraise\u001b[39;00m \u001b[39mValueError\u001b[39;00m(\n\u001b[1;32m    534\u001b[0m         \u001b[39mf\u001b[39m\u001b[39m\"\u001b[39m\u001b[39mcriterion=\u001b[39m\u001b[39m{\u001b[39;00m\u001b[39mself\u001b[39m\u001b[39m.\u001b[39mcriterion\u001b[39m!r}\u001b[39;00m\u001b[39m is not supported. Use \u001b[39m\u001b[39m\"\u001b[39m\n\u001b[1;32m    535\u001b[0m         \u001b[39m\"\u001b[39m\u001b[39mcriterion=\u001b[39m\u001b[39m'\u001b[39m\u001b[39mfriedman_mse\u001b[39m\u001b[39m'\u001b[39m\u001b[39m or \u001b[39m\u001b[39m'\u001b[39m\u001b[39msquared_error\u001b[39m\u001b[39m'\u001b[39m\u001b[39m instead, as\u001b[39m\u001b[39m\"\u001b[39m\n\u001b[1;32m    536\u001b[0m         \u001b[39m\"\u001b[39m\u001b[39m trees should use a squared error criterion in Gradient\u001b[39m\u001b[39m\"\u001b[39m\n\u001b[1;32m    537\u001b[0m         \u001b[39m\"\u001b[39m\u001b[39m Boosting.\u001b[39m\u001b[39m\"\u001b[39m\n\u001b[1;32m    538\u001b[0m     )\n\u001b[1;32m    540\u001b[0m \u001b[39mif\u001b[39;00m \u001b[39mself\u001b[39m\u001b[39m.\u001b[39mcriterion \u001b[39m==\u001b[39m \u001b[39m\"\u001b[39m\u001b[39mmse\u001b[39m\u001b[39m\"\u001b[39m:\n\u001b[1;32m    541\u001b[0m     \u001b[39m# TODO(1.2): Remove. By then it should raise an error.\u001b[39;00m\n\u001b[1;32m    542\u001b[0m     warnings\u001b[39m.\u001b[39mwarn(\n\u001b[1;32m    543\u001b[0m         \u001b[39m\"\u001b[39m\u001b[39mCriterion \u001b[39m\u001b[39m'\u001b[39m\u001b[39mmse\u001b[39m\u001b[39m'\u001b[39m\u001b[39m was deprecated in v1.0 and will be \u001b[39m\u001b[39m\"\u001b[39m\n\u001b[1;32m    544\u001b[0m         \u001b[39m\"\u001b[39m\u001b[39mremoved in version 1.2. Use `criterion=\u001b[39m\u001b[39m'\u001b[39m\u001b[39msquared_error\u001b[39m\u001b[39m'\u001b[39m\u001b[39m` \u001b[39m\u001b[39m\"\u001b[39m\n\u001b[1;32m    545\u001b[0m         \u001b[39m\"\u001b[39m\u001b[39mwhich is equivalent.\u001b[39m\u001b[39m\"\u001b[39m,\n\u001b[1;32m    546\u001b[0m         \u001b[39mFutureWarning\u001b[39;00m,\n\u001b[1;32m    547\u001b[0m     )\n",
      "\u001b[0;31mValueError\u001b[0m: criterion='friedmen_mse' is not supported. Use criterion='friedman_mse' or 'squared_error' instead, as trees should use a squared error criterion in Gradient Boosting."
     ]
    }
   ],
   "source": [
    "clf = GradientBoostingClassifier(criterion='friedmen_mse',learning_rate=0.75,loss='log_loss',\n",
    "                                 max_depth=3,max_features='log2',min_samples_leaf=0.1,min_samples_split=0.1,\n",
    "                                 n_estimators=100, subsample=0.5, random_state=1).fit(X_train,y_train)\n",
    "clf.score(X_test,y_test)"
   ]
  },
  {
   "cell_type": "code",
   "execution_count": null,
   "metadata": {},
   "outputs": [],
   "source": [
    "#Criterion:friedmen_mse\n",
    "#learning_rate:0.75\n",
    "#loss:log_loss\n",
    "#max_depth:3\n",
    "#max_features:log2\n",
    "#min_samples_leaf:0.1\n",
    "#min_samples_split:0.1\n",
    "#param_n_estimators:100\n",
    "#parm_subsample:0.5\n"
   ]
  }
 ],
 "metadata": {
  "kernelspec": {
   "display_name": "Python 3.9.7 64-bit",
   "language": "python",
   "name": "python3"
  },
  "language_info": {
   "codemirror_mode": {
    "name": "ipython",
    "version": 3
   },
   "file_extension": ".py",
   "mimetype": "text/x-python",
   "name": "python",
   "nbconvert_exporter": "python",
   "pygments_lexer": "ipython3",
   "version": "3.9.7"
  },
  "orig_nbformat": 4,
  "vscode": {
   "interpreter": {
    "hash": "aee8b7b246df8f9039afb4144a1f6fd8d2ca17a180786b69acc140d282b71a49"
   }
  }
 },
 "nbformat": 4,
 "nbformat_minor": 2
}
