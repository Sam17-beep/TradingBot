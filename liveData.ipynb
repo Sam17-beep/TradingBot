{
 "cells": [
  {
   "cell_type": "code",
   "execution_count": 4,
   "metadata": {},
   "outputs": [],
   "source": [
    "import pandas as pd\n",
    "import pandas_ta as ta\n",
    "import datetime\n",
    "import numpy as np\n",
    "import pickle"
   ]
  },
  {
   "cell_type": "code",
   "execution_count": 2,
   "metadata": {},
   "outputs": [],
   "source": []
  },
  {
   "cell_type": "code",
   "execution_count": 66,
   "metadata": {},
   "outputs": [
    {
     "name": "stdout",
     "output_type": "stream",
     "text": [
      "ADAUSDT [0.] 0.501945430439115\n",
      "BNBUSDT [1.] 0.512637682874826\n",
      "BTCUSDT [1.] 0.5031273280967975\n",
      "ETHUSDT [0.] 0.5021434912961291\n",
      "LTCUSDT [1.] 0.5016437837018008\n",
      "XRPUSDT [0.] 0.5236675122902797\n"
     ]
    }
   ],
   "source": [
    "import warnings\n",
    "warnings.filterwarnings('ignore')\n",
    "\n",
    "def connectToBinance():\n",
    "  from binance import Client\n",
    "  return Client('3FqLXkx5UOAX10B5lVRhmDDFap7uFY8evLeOqFqnwVfmkZh9IY1tr1to8oBwNdRG',\n",
    "                'UUR5wLkgzqXEMQbRzkwxJlwD9iChahjLyYNanzawTCDX1jIxRUzpxVtZvcSyjAi1')\n",
    "\n",
    "def getLast48Candles(client, symbol): #Close time, open, high, low, close, volume\n",
    "  s = symbol.split('USDT')[0]\n",
    "\n",
    "  tickers = client.get_historical_klines(symbol, '1h', limit=48)\n",
    "  candles = []\n",
    "  for ticker in tickers:\n",
    "    candle = [np.float32(ticker[1]),np.float32(ticker[2]),np.float32(ticker[3]),np.float32(ticker[4]),np.float32(ticker[5]),ticker[6]]\n",
    "    candles.append(candle)\n",
    "  \n",
    "  df = pd.DataFrame(candles, columns=['open', 'high', 'low','close', 'Volume '+ s, 'date'])\n",
    "  \n",
    "  df['date'] = pd.to_datetime(df['date'],unit='ms')\n",
    "  df.set_index('date', inplace=True)\n",
    "  return df\n",
    "\n",
    "\n",
    "  \n",
    "def getIndicators(data):\n",
    "  strat = ta.Strategy(name='Strategie',\n",
    "                     description='MACD, RSI',\n",
    "                     ta=[\n",
    "                      {'kind':'rsi', 'length':7},\n",
    "                      {'kind':'rsi', 'length':14},\n",
    "                      {'kind':'sma', 'length':7},\n",
    "                      {'kind':'sma', 'length':25},\n",
    "                      {'kind':'macd', 'fast':12 , 'slow':26},\n",
    "                      {'kind':'obv'},\n",
    "                     ])\n",
    "\n",
    "  data.ta.strategy(strat)\n",
    "  return data.iloc[-2]\n",
    "\n",
    "def getPrediction(indicators, symbol):\n",
    "  filename='Models/'+symbol+'_model.pkl'\n",
    "  with open(filename, 'rb') as file:\n",
    "    model = pickle.load(file)\n",
    "  return model.predict(np.array(indicators).reshape(1, -1)), model.predict_proba(np.array(indicators).reshape(1, -1))\n",
    "  \n",
    "def sellPapier(amount, file):\n",
    "  print(f\"Une vente de {amount}BTC à été effectuée.\\n\\n\")\n",
    "  \n",
    "def buyPapier(amount, file):\n",
    "  print(f\"Un achat de {amount}BTC à été effectué.\\n\\n\")\n",
    "\n",
    "def waitPapier(file):\n",
    "  print(\"Aucune action à été effectué.\\n\\n\")\n",
    "\n",
    "def paperTrade(prediction, amount):\n",
    "  file = open('log.txt', 'a')\n",
    "  file.write(f\"{datetime.datetime.now()} - La predicton {'UP' if prediction == 2 else ('DOWN' if prediction == 0 else 'NO_MOVEMENT')} a été émise.\\n\")\n",
    "  \n",
    "  \n",
    "  if(prediction == 0):\n",
    "    sellPapier(amount,file)\n",
    "  if(prediction == 2):\n",
    "    buyPapier(amount,file)\n",
    "  if(prediction == 1):\n",
    "    waitPapier(amount,file)\n",
    "  \n",
    "   \n",
    "  \n",
    "\n",
    "client = connectToBinance()\n",
    "for symbol in ['ADAUSDT', 'BNBUSDT','BTCUSDT','ETHUSDT','LTCUSDT','XRPUSDT']:\n",
    "  candles = getLast48Candles(client, symbol)\n",
    "  indicators = getIndicators(candles)\n",
    "  prediction, proba = getPrediction(indicators, symbol)\n",
    "  print(symbol,prediction, proba[0][int(prediction)])\n",
    "\n",
    "\n",
    "# 0:Down\n",
    "# 1:no mouvement greater then +/-50$\n",
    "# 2:Up\n",
    "# import random\n",
    "# prediction = random.randint(0, 2) ##Evidement à effacer\n",
    "# amount = getAmount(client)\n",
    "# paperTrade(prediction, amount)\n",
    "\n",
    "\n",
    "\n",
    "\n",
    "\n",
    "# if(prediction == 0):\n",
    "# elif(prediction==1):\n",
    "# else:\n",
    "  \n"
   ]
  },
  {
   "cell_type": "code",
   "execution_count": null,
   "metadata": {},
   "outputs": [],
   "source": [
    "\n",
    "  \n"
   ]
  },
  {
   "cell_type": "code",
   "execution_count": null,
   "metadata": {},
   "outputs": [],
   "source": []
  },
  {
   "cell_type": "code",
   "execution_count": 35,
   "metadata": {},
   "outputs": [],
   "source": [
    "#Log prediction\n",
    "import datetime\n",
    "import random\n",
    "\n",
    "prediction = random.randint(0, 2)\n",
    "f = open('log.txt', 'a')\n",
    "f.write(f\"{datetime.datetime.now()} - La predicton {'UP' if prediction == 2 else ('DOWN' if prediction == 0 else 'NO_MOVEMENT')} a été émise.\\n\")\n",
    "f.close()"
   ]
  },
  {
   "cell_type": "code",
   "execution_count": null,
   "metadata": {},
   "outputs": [],
   "source": []
  },
  {
   "cell_type": "code",
   "execution_count": null,
   "metadata": {},
   "outputs": [],
   "source": []
  },
  {
   "cell_type": "code",
   "execution_count": null,
   "metadata": {},
   "outputs": [],
   "source": []
  }
 ],
 "metadata": {
  "kernelspec": {
   "display_name": "Python 3.9.7 64-bit",
   "language": "python",
   "name": "python3"
  },
  "language_info": {
   "codemirror_mode": {
    "name": "ipython",
    "version": 3
   },
   "file_extension": ".py",
   "mimetype": "text/x-python",
   "name": "python",
   "nbconvert_exporter": "python",
   "pygments_lexer": "ipython3",
   "version": "3.9.7"
  },
  "orig_nbformat": 4,
  "vscode": {
   "interpreter": {
    "hash": "aee8b7b246df8f9039afb4144a1f6fd8d2ca17a180786b69acc140d282b71a49"
   }
  }
 },
 "nbformat": 4,
 "nbformat_minor": 2
}
