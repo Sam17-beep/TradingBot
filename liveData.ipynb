{
 "cells": [
  {
   "cell_type": "code",
   "execution_count": 136,
   "metadata": {},
   "outputs": [],
   "source": [
    "import pandas as pd\n",
    "import pandas_ta as ta\n",
    "import datetime\n",
    "import numpy as np"
   ]
  },
  {
   "cell_type": "code",
   "execution_count": 2,
   "metadata": {},
   "outputs": [],
   "source": [
    "#Load model\n",
    "import pickle\n",
    "filename='.pkl'\n",
    "with open(filename, 'rb') as file:\n",
    "    model = pickle.load(file)\n"
   ]
  },
  {
   "cell_type": "code",
   "execution_count": 152,
   "metadata": {},
   "outputs": [
    {
     "name": "stderr",
     "output_type": "stream",
     "text": [
      "/Users/sam/Library/Python/3.9/lib/python/site-packages/sklearn/base.py:450: UserWarning: X does not have valid feature names, but SVC was fitted with feature names\n",
      "  warnings.warn(\n"
     ]
    },
    {
     "data": {
      "text/plain": [
       "0.0"
      ]
     },
     "execution_count": 152,
     "metadata": {},
     "output_type": "execute_result"
    }
   ],
   "source": [
    "def connectToBinance():\n",
    "  from binance import Client\n",
    "  return Client('3FqLXkx5UOAX10B5lVRhmDDFap7uFY8evLeOqFqnwVfmkZh9IY1tr1to8oBwNdRG',\n",
    "                'UUR5wLkgzqXEMQbRzkwxJlwD9iChahjLyYNanzawTCDX1jIxRUzpxVtZvcSyjAi1')\n",
    "\n",
    "def getCurrentTicker(client):\n",
    "  price = client.get_ticker(symbol='BTCUSDT')\n",
    "  closeTime = pd.to_datetime(datetime.datetime.fromtimestamp(price['closeTime']/1000, tz=datetime.timezone.utc))\n",
    "  highPrice = np.float32(price['highPrice'])\n",
    "  lowPrice = np.float32(price['lowPrice'])\n",
    "  closePrice = np.float32(price['lastPrice'])\n",
    "\n",
    "  return pd.DataFrame({'high':highPrice,'low':lowPrice, 'close' :closePrice}, index=[closeTime.strftime(\"%Y-%m-%d\")])\n",
    "\n",
    "def reteiveData(candle):\n",
    "  with open('last34Days.pkl', 'rb') as file:\n",
    "    last34Days = pickle.load(file)\n",
    "  pd.concat([last34Days, candle]).iloc[1:].to_pickle('last34Days.pkl')\n",
    "  return pd.concat([last34Days, candle])\n",
    "\n",
    "def save34Days(data):\n",
    "  data.iloc[1:].to_pickle('last34Days.pkl')\n",
    "  \n",
    "def getIndicators(data, indicators=['MACD_12_26_9', 'MACDh_12_26_9','RSI_5', 'RSI_10', 'RSI_15']):\n",
    "  strat = ta.Strategy(name='Strategie 1',\n",
    "                     description='MACD, RSI',\n",
    "                     ta=[\n",
    "                       {'kind':'macd', 'fast':12 , 'slow':26},\n",
    "                       {'kind':'rsi', 'length':5},\n",
    "                       {'kind':'rsi', 'length':10},\n",
    "                       {'kind':'rsi', 'length':15}\n",
    "                     ])\n",
    "\n",
    "  data.ta.strategy(strat)\n",
    "  return data[indicators].iloc[-1]\n",
    "\n",
    "def getPrediction(indicators):\n",
    "  filename='./model/MLP689.pkl'\n",
    "  with open(filename, 'rb') as file:\n",
    "    model = pickle.load(file)\n",
    "  return model.predict(np.array(indicators).reshape(1, -1))\n",
    "  \n",
    "def sellPapier(amount, file):\n",
    "  print(f\"Une vente de {amount}BTC à été effectuée.\\n\\n\")\n",
    "  \n",
    "def buyPapier(amount, file):\n",
    "  print(f\"Un achat de {amount}BTC à été effectué.\\n\\n\")\n",
    "\n",
    "def waitPapier(file):\n",
    "  print(\"Aucune action à été effectué.\\n\\n\")\n",
    "\n",
    "def paperTrade(prediction, amount):\n",
    "  file = open('log.txt', 'a')\n",
    "  file.write(f\"{datetime.datetime.now()} - La predicton {'UP' if prediction == 2 else ('DOWN' if prediction == 0 else 'NO_MOVEMENT')} a été émise.\\n\")\n",
    "  \n",
    "  \n",
    "  if(prediction == 0):\n",
    "    sellPapier(amount,file)\n",
    "  if(prediction == 2):\n",
    "    buyPapier(amount,file)\n",
    "  if(prediction == 1):\n",
    "    waitPapier(amount,file)\n",
    "  \n",
    "   \n",
    "  \n",
    "\n",
    "client = connectToBinance()\n",
    "candle = getCurrentTicker(client)\n",
    "data = reteiveData(candle)\n",
    "save34Days(data)\n",
    "indicators = getIndicators(data)\n",
    "prediction = getPrediction(indicators)[0] \n",
    "# 0:Down\n",
    "# 1:no mouvement greater then +/-50$\n",
    "# 2:Up\n",
    "import random\n",
    "prediction = random.randint(0, 2) ##Evidement à effacer\n",
    "amount = getAmount(client)\n",
    "paperTrade(prediction, amount)\n",
    "\n",
    "\n",
    "\n",
    "\n",
    "\n",
    "# if(prediction == 0):\n",
    "# elif(prediction==1):\n",
    "# else:\n",
    "  \n"
   ]
  },
  {
   "cell_type": "code",
   "execution_count": 151,
   "metadata": {},
   "outputs": [],
   "source": [
    "#Reset last34Days\n",
    "import pickle\n",
    "with open('testValue.pkl', 'rb') as file:\n",
    "  testData = pickle.load(file)\n",
    "testData.to_pickle('last34Days.pkl')"
   ]
  },
  {
   "cell_type": "code",
   "execution_count": 153,
   "metadata": {},
   "outputs": [
    {
     "data": {
      "text/html": [
       "<style>#sk-container-id-1 {color: black;background-color: white;}#sk-container-id-1 pre{padding: 0;}#sk-container-id-1 div.sk-toggleable {background-color: white;}#sk-container-id-1 label.sk-toggleable__label {cursor: pointer;display: block;width: 100%;margin-bottom: 0;padding: 0.3em;box-sizing: border-box;text-align: center;}#sk-container-id-1 label.sk-toggleable__label-arrow:before {content: \"▸\";float: left;margin-right: 0.25em;color: #696969;}#sk-container-id-1 label.sk-toggleable__label-arrow:hover:before {color: black;}#sk-container-id-1 div.sk-estimator:hover label.sk-toggleable__label-arrow:before {color: black;}#sk-container-id-1 div.sk-toggleable__content {max-height: 0;max-width: 0;overflow: hidden;text-align: left;background-color: #f0f8ff;}#sk-container-id-1 div.sk-toggleable__content pre {margin: 0.2em;color: black;border-radius: 0.25em;background-color: #f0f8ff;}#sk-container-id-1 input.sk-toggleable__control:checked~div.sk-toggleable__content {max-height: 200px;max-width: 100%;overflow: auto;}#sk-container-id-1 input.sk-toggleable__control:checked~label.sk-toggleable__label-arrow:before {content: \"▾\";}#sk-container-id-1 div.sk-estimator input.sk-toggleable__control:checked~label.sk-toggleable__label {background-color: #d4ebff;}#sk-container-id-1 div.sk-label input.sk-toggleable__control:checked~label.sk-toggleable__label {background-color: #d4ebff;}#sk-container-id-1 input.sk-hidden--visually {border: 0;clip: rect(1px 1px 1px 1px);clip: rect(1px, 1px, 1px, 1px);height: 1px;margin: -1px;overflow: hidden;padding: 0;position: absolute;width: 1px;}#sk-container-id-1 div.sk-estimator {font-family: monospace;background-color: #f0f8ff;border: 1px dotted black;border-radius: 0.25em;box-sizing: border-box;margin-bottom: 0.5em;}#sk-container-id-1 div.sk-estimator:hover {background-color: #d4ebff;}#sk-container-id-1 div.sk-parallel-item::after {content: \"\";width: 100%;border-bottom: 1px solid gray;flex-grow: 1;}#sk-container-id-1 div.sk-label:hover label.sk-toggleable__label {background-color: #d4ebff;}#sk-container-id-1 div.sk-serial::before {content: \"\";position: absolute;border-left: 1px solid gray;box-sizing: border-box;top: 0;bottom: 0;left: 50%;z-index: 0;}#sk-container-id-1 div.sk-serial {display: flex;flex-direction: column;align-items: center;background-color: white;padding-right: 0.2em;padding-left: 0.2em;position: relative;}#sk-container-id-1 div.sk-item {position: relative;z-index: 1;}#sk-container-id-1 div.sk-parallel {display: flex;align-items: stretch;justify-content: center;background-color: white;position: relative;}#sk-container-id-1 div.sk-item::before, #sk-container-id-1 div.sk-parallel-item::before {content: \"\";position: absolute;border-left: 1px solid gray;box-sizing: border-box;top: 0;bottom: 0;left: 50%;z-index: -1;}#sk-container-id-1 div.sk-parallel-item {display: flex;flex-direction: column;z-index: 1;position: relative;background-color: white;}#sk-container-id-1 div.sk-parallel-item:first-child::after {align-self: flex-end;width: 50%;}#sk-container-id-1 div.sk-parallel-item:last-child::after {align-self: flex-start;width: 50%;}#sk-container-id-1 div.sk-parallel-item:only-child::after {width: 0;}#sk-container-id-1 div.sk-dashed-wrapped {border: 1px dashed gray;margin: 0 0.4em 0.5em 0.4em;box-sizing: border-box;padding-bottom: 0.4em;background-color: white;}#sk-container-id-1 div.sk-label label {font-family: monospace;font-weight: bold;display: inline-block;line-height: 1.2em;}#sk-container-id-1 div.sk-label-container {text-align: center;}#sk-container-id-1 div.sk-container {/* jupyter's `normalize.less` sets `[hidden] { display: none; }` but bootstrap.min.css set `[hidden] { display: none !important; }` so we also need the `!important` here to be able to override the default hidden behavior on the sphinx rendered scikit-learn.org. See: https://github.com/scikit-learn/scikit-learn/issues/21755 */display: inline-block !important;position: relative;}#sk-container-id-1 div.sk-text-repr-fallback {display: none;}</style><div id=\"sk-container-id-1\" class=\"sk-top-container\"><div class=\"sk-text-repr-fallback\"><pre>SVC()</pre><b>In a Jupyter environment, please rerun this cell to show the HTML representation or trust the notebook. <br />On GitHub, the HTML representation is unable to render, please try loading this page with nbviewer.org.</b></div><div class=\"sk-container\" hidden><div class=\"sk-item\"><div class=\"sk-estimator sk-toggleable\"><input class=\"sk-toggleable__control sk-hidden--visually\" id=\"sk-estimator-id-1\" type=\"checkbox\" checked><label for=\"sk-estimator-id-1\" class=\"sk-toggleable__label sk-toggleable__label-arrow\">SVC</label><div class=\"sk-toggleable__content\"><pre>SVC()</pre></div></div></div></div></div>"
      ],
      "text/plain": [
       "SVC()"
      ]
     },
     "execution_count": 153,
     "metadata": {},
     "output_type": "execute_result"
    }
   ],
   "source": [
    "model"
   ]
  },
  {
   "cell_type": "code",
   "execution_count": 35,
   "metadata": {},
   "outputs": [],
   "source": [
    "#Log prediction\n",
    "import datetime\n",
    "import random\n",
    "\n",
    "prediction = random.randint(0, 2)\n",
    "f = open('log.txt', 'a')\n",
    "f.write(f\"{datetime.datetime.now()} - La predicton {'UP' if prediction == 2 else ('DOWN' if prediction == 0 else 'NO_MOVEMENT')} a été émise.\\n\")\n",
    "f.close()"
   ]
  },
  {
   "cell_type": "code",
   "execution_count": null,
   "metadata": {},
   "outputs": [],
   "source": []
  },
  {
   "cell_type": "code",
   "execution_count": null,
   "metadata": {},
   "outputs": [],
   "source": []
  },
  {
   "cell_type": "code",
   "execution_count": null,
   "metadata": {},
   "outputs": [],
   "source": []
  }
 ],
 "metadata": {
  "kernelspec": {
   "display_name": "Python 3.9.7 64-bit",
   "language": "python",
   "name": "python3"
  },
  "language_info": {
   "codemirror_mode": {
    "name": "ipython",
    "version": 3
   },
   "file_extension": ".py",
   "mimetype": "text/x-python",
   "name": "python",
   "nbconvert_exporter": "python",
   "pygments_lexer": "ipython3",
   "version": "3.9.7"
  },
  "orig_nbformat": 4,
  "vscode": {
   "interpreter": {
    "hash": "aee8b7b246df8f9039afb4144a1f6fd8d2ca17a180786b69acc140d282b71a49"
   }
  }
 },
 "nbformat": 4,
 "nbformat_minor": 2
}
