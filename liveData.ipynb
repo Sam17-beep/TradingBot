{
 "cells": [
  {
   "cell_type": "code",
   "execution_count": 4,
   "metadata": {},
   "outputs": [],
   "source": [
    "import pandas as pd\n",
    "import pandas_ta as ta\n",
    "import datetime\n",
    "import numpy as np\n",
    "import pickle"
   ]
  },
  {
   "cell_type": "code",
   "execution_count": 2,
   "metadata": {},
   "outputs": [],
   "source": []
  },
  {
   "cell_type": "code",
   "execution_count": 25,
   "metadata": {},
   "outputs": [
    {
     "ename": "BinanceAPIException",
     "evalue": "APIError(code=-1104): Not all sent parameters were read; read '1' parameter(s) but was sent '2'.",
     "output_type": "error",
     "traceback": [
      "\u001b[0;31m---------------------------------------------------------------------------\u001b[0m",
      "\u001b[0;31mBinanceAPIException\u001b[0m                       Traceback (most recent call last)",
      "\u001b[1;32m/Users/sam/Worspace/python/TradingBot/liveData.ipynb Cellule 3\u001b[0m in \u001b[0;36m<cell line: 76>\u001b[0;34m()\u001b[0m\n\u001b[1;32m     <a href='vscode-notebook-cell:/Users/sam/Worspace/python/TradingBot/liveData.ipynb#W2sZmlsZQ%3D%3D?line=69'>70</a>\u001b[0m     waitPapier(amount,file)\n\u001b[1;32m     <a href='vscode-notebook-cell:/Users/sam/Worspace/python/TradingBot/liveData.ipynb#W2sZmlsZQ%3D%3D?line=74'>75</a>\u001b[0m client \u001b[39m=\u001b[39m connectToBinance()\n\u001b[0;32m---> <a href='vscode-notebook-cell:/Users/sam/Worspace/python/TradingBot/liveData.ipynb#W2sZmlsZQ%3D%3D?line=75'>76</a>\u001b[0m candle \u001b[39m=\u001b[39m getCurrentTicker(client, \u001b[39m'\u001b[39;49m\u001b[39mADAUSDT\u001b[39;49m\u001b[39m'\u001b[39;49m)\n\u001b[1;32m     <a href='vscode-notebook-cell:/Users/sam/Worspace/python/TradingBot/liveData.ipynb#W2sZmlsZQ%3D%3D?line=76'>77</a>\u001b[0m data \u001b[39m=\u001b[39m reteiveOldData(candle, \u001b[39m'\u001b[39m\u001b[39mADAUSDT\u001b[39m\u001b[39m'\u001b[39m)\n\u001b[1;32m     <a href='vscode-notebook-cell:/Users/sam/Worspace/python/TradingBot/liveData.ipynb#W2sZmlsZQ%3D%3D?line=77'>78</a>\u001b[0m save48Hours(data,\u001b[39m'\u001b[39m\u001b[39mADAUSDT\u001b[39m\u001b[39m'\u001b[39m)\n",
      "\u001b[1;32m/Users/sam/Worspace/python/TradingBot/liveData.ipynb Cellule 3\u001b[0m in \u001b[0;36mgetCurrentTicker\u001b[0;34m(client, symbol)\u001b[0m\n\u001b[1;32m      <a href='vscode-notebook-cell:/Users/sam/Worspace/python/TradingBot/liveData.ipynb#W2sZmlsZQ%3D%3D?line=5'>6</a>\u001b[0m \u001b[39mdef\u001b[39;00m \u001b[39mgetCurrentTicker\u001b[39m(client, symbol):\n\u001b[0;32m----> <a href='vscode-notebook-cell:/Users/sam/Worspace/python/TradingBot/liveData.ipynb#W2sZmlsZQ%3D%3D?line=6'>7</a>\u001b[0m   price \u001b[39m=\u001b[39m client\u001b[39m.\u001b[39;49mget_ticker(symbol\u001b[39m=\u001b[39;49msymbol, windowSize\u001b[39m=\u001b[39;49m\u001b[39m'\u001b[39;49m\u001b[39m1h\u001b[39;49m\u001b[39m'\u001b[39;49m)\n\u001b[1;32m      <a href='vscode-notebook-cell:/Users/sam/Worspace/python/TradingBot/liveData.ipynb#W2sZmlsZQ%3D%3D?line=7'>8</a>\u001b[0m   closeTime \u001b[39m=\u001b[39m pd\u001b[39m.\u001b[39mto_datetime(datetime\u001b[39m.\u001b[39mdatetime\u001b[39m.\u001b[39mfromtimestamp(price[\u001b[39m'\u001b[39m\u001b[39mcloseTime\u001b[39m\u001b[39m'\u001b[39m]\u001b[39m/\u001b[39m\u001b[39m1000\u001b[39m, tz\u001b[39m=\u001b[39mdatetime\u001b[39m.\u001b[39mtimezone\u001b[39m.\u001b[39mutc))\n\u001b[1;32m      <a href='vscode-notebook-cell:/Users/sam/Worspace/python/TradingBot/liveData.ipynb#W2sZmlsZQ%3D%3D?line=8'>9</a>\u001b[0m   highPrice \u001b[39m=\u001b[39m np\u001b[39m.\u001b[39mfloat32(price[\u001b[39m'\u001b[39m\u001b[39mhighPrice\u001b[39m\u001b[39m'\u001b[39m])\n",
      "File \u001b[0;32m~/Library/Python/3.9/lib/python/site-packages/binance/client.py:1193\u001b[0m, in \u001b[0;36mClient.get_ticker\u001b[0;34m(self, **params)\u001b[0m\n\u001b[1;32m   1134\u001b[0m \u001b[39mdef\u001b[39;00m \u001b[39mget_ticker\u001b[39m(\u001b[39mself\u001b[39m, \u001b[39m*\u001b[39m\u001b[39m*\u001b[39mparams):\n\u001b[1;32m   1135\u001b[0m     \u001b[39m\"\"\"24 hour price change statistics.\u001b[39;00m\n\u001b[1;32m   1136\u001b[0m \n\u001b[1;32m   1137\u001b[0m \u001b[39m    https://binance-docs.github.io/apidocs/spot/en/#24hr-ticker-price-change-statistics\u001b[39;00m\n\u001b[0;32m   (...)\u001b[0m\n\u001b[1;32m   1191\u001b[0m \n\u001b[1;32m   1192\u001b[0m \u001b[39m    \"\"\"\u001b[39;00m\n\u001b[0;32m-> 1193\u001b[0m     \u001b[39mreturn\u001b[39;00m \u001b[39mself\u001b[39;49m\u001b[39m.\u001b[39;49m_get(\u001b[39m'\u001b[39;49m\u001b[39mticker/24hr\u001b[39;49m\u001b[39m'\u001b[39;49m, data\u001b[39m=\u001b[39;49mparams, version\u001b[39m=\u001b[39;49m\u001b[39mself\u001b[39;49m\u001b[39m.\u001b[39;49mPRIVATE_API_VERSION)\n",
      "File \u001b[0;32m~/Library/Python/3.9/lib/python/site-packages/binance/client.py:371\u001b[0m, in \u001b[0;36mClient._get\u001b[0;34m(self, path, signed, version, **kwargs)\u001b[0m\n\u001b[1;32m    370\u001b[0m \u001b[39mdef\u001b[39;00m \u001b[39m_get\u001b[39m(\u001b[39mself\u001b[39m, path, signed\u001b[39m=\u001b[39m\u001b[39mFalse\u001b[39;00m, version\u001b[39m=\u001b[39mBaseClient\u001b[39m.\u001b[39mPUBLIC_API_VERSION, \u001b[39m*\u001b[39m\u001b[39m*\u001b[39mkwargs):\n\u001b[0;32m--> 371\u001b[0m     \u001b[39mreturn\u001b[39;00m \u001b[39mself\u001b[39;49m\u001b[39m.\u001b[39;49m_request_api(\u001b[39m'\u001b[39;49m\u001b[39mget\u001b[39;49m\u001b[39m'\u001b[39;49m, path, signed, version, \u001b[39m*\u001b[39;49m\u001b[39m*\u001b[39;49mkwargs)\n",
      "File \u001b[0;32m~/Library/Python/3.9/lib/python/site-packages/binance/client.py:334\u001b[0m, in \u001b[0;36mClient._request_api\u001b[0;34m(self, method, path, signed, version, **kwargs)\u001b[0m\n\u001b[1;32m    330\u001b[0m \u001b[39mdef\u001b[39;00m \u001b[39m_request_api\u001b[39m(\n\u001b[1;32m    331\u001b[0m     \u001b[39mself\u001b[39m, method, path: \u001b[39mstr\u001b[39m, signed: \u001b[39mbool\u001b[39m \u001b[39m=\u001b[39m \u001b[39mFalse\u001b[39;00m, version\u001b[39m=\u001b[39mBaseClient\u001b[39m.\u001b[39mPUBLIC_API_VERSION, \u001b[39m*\u001b[39m\u001b[39m*\u001b[39mkwargs\n\u001b[1;32m    332\u001b[0m ):\n\u001b[1;32m    333\u001b[0m     uri \u001b[39m=\u001b[39m \u001b[39mself\u001b[39m\u001b[39m.\u001b[39m_create_api_uri(path, signed, version)\n\u001b[0;32m--> 334\u001b[0m     \u001b[39mreturn\u001b[39;00m \u001b[39mself\u001b[39;49m\u001b[39m.\u001b[39;49m_request(method, uri, signed, \u001b[39m*\u001b[39;49m\u001b[39m*\u001b[39;49mkwargs)\n",
      "File \u001b[0;32m~/Library/Python/3.9/lib/python/site-packages/binance/client.py:315\u001b[0m, in \u001b[0;36mClient._request\u001b[0;34m(self, method, uri, signed, force_params, **kwargs)\u001b[0m\n\u001b[1;32m    312\u001b[0m kwargs \u001b[39m=\u001b[39m \u001b[39mself\u001b[39m\u001b[39m.\u001b[39m_get_request_kwargs(method, signed, force_params, \u001b[39m*\u001b[39m\u001b[39m*\u001b[39mkwargs)\n\u001b[1;32m    314\u001b[0m \u001b[39mself\u001b[39m\u001b[39m.\u001b[39mresponse \u001b[39m=\u001b[39m \u001b[39mgetattr\u001b[39m(\u001b[39mself\u001b[39m\u001b[39m.\u001b[39msession, method)(uri, \u001b[39m*\u001b[39m\u001b[39m*\u001b[39mkwargs)\n\u001b[0;32m--> 315\u001b[0m \u001b[39mreturn\u001b[39;00m \u001b[39mself\u001b[39;49m\u001b[39m.\u001b[39;49m_handle_response(\u001b[39mself\u001b[39;49m\u001b[39m.\u001b[39;49mresponse)\n",
      "File \u001b[0;32m~/Library/Python/3.9/lib/python/site-packages/binance/client.py:324\u001b[0m, in \u001b[0;36mClient._handle_response\u001b[0;34m(response)\u001b[0m\n\u001b[1;32m    319\u001b[0m \u001b[39m\"\"\"Internal helper for handling API responses from the Binance server.\u001b[39;00m\n\u001b[1;32m    320\u001b[0m \u001b[39mRaises the appropriate exceptions when necessary; otherwise, returns the\u001b[39;00m\n\u001b[1;32m    321\u001b[0m \u001b[39mresponse.\u001b[39;00m\n\u001b[1;32m    322\u001b[0m \u001b[39m\"\"\"\u001b[39;00m\n\u001b[1;32m    323\u001b[0m \u001b[39mif\u001b[39;00m \u001b[39mnot\u001b[39;00m (\u001b[39m200\u001b[39m \u001b[39m<\u001b[39m\u001b[39m=\u001b[39m response\u001b[39m.\u001b[39mstatus_code \u001b[39m<\u001b[39m \u001b[39m300\u001b[39m):\n\u001b[0;32m--> 324\u001b[0m     \u001b[39mraise\u001b[39;00m BinanceAPIException(response, response\u001b[39m.\u001b[39mstatus_code, response\u001b[39m.\u001b[39mtext)\n\u001b[1;32m    325\u001b[0m \u001b[39mtry\u001b[39;00m:\n\u001b[1;32m    326\u001b[0m     \u001b[39mreturn\u001b[39;00m response\u001b[39m.\u001b[39mjson()\n",
      "\u001b[0;31mBinanceAPIException\u001b[0m: APIError(code=-1104): Not all sent parameters were read; read '1' parameter(s) but was sent '2'."
     ]
    }
   ],
   "source": [
    "def connectToBinance():\n",
    "  from binance import Client\n",
    "  return Client('3FqLXkx5UOAX10B5lVRhmDDFap7uFY8evLeOqFqnwVfmkZh9IY1tr1to8oBwNdRG',\n",
    "                'UUR5wLkgzqXEMQbRzkwxJlwD9iChahjLyYNanzawTCDX1jIxRUzpxVtZvcSyjAi1')\n",
    "\n",
    "def getCurrentTicker(client, symbol):\n",
    "  price = client.get_ticker(symbol=symbol, windowSize=['1h'])\n",
    "  closeTime = pd.to_datetime(datetime.datetime.fromtimestamp(price['closeTime']/1000, tz=datetime.timezone.utc))\n",
    "  highPrice = np.float32(price['highPrice'])\n",
    "  lowPrice = np.float32(price['lowPrice'])\n",
    "  closePrice = np.float32(price['lastPrice'])\n",
    "  openPrice = np.float32(price['openPrice'])\n",
    "  print(price)\n",
    "  return pd.DataFrame({'high':highPrice,'low':lowPrice, 'close' :closePrice}, index=[closeTime.strftime(\"%Y-%m-%d\")])\n",
    "\n",
    "def reteiveOldData(candle,symbol):\n",
    "  f = 'OldData/last48'+symbol+'.pkl'\n",
    "  with open(f, 'rb') as file:\n",
    "    last48Hours = pickle.load(file)\n",
    "  pd.concat([last48Hours, candle]).iloc[1:].to_pickle(f)\n",
    "  newLast48Hours = pd.concat([last48Hours, candle]).iloc[1:]\n",
    "  print('newLast48Hours ' +symbol + ' created (new len : '+ str(len(newLast48Hours)) + ')')\n",
    "  return newLast48Hours\n",
    "\n",
    "def save48Hours(data, symbol):\n",
    "  f = 'OldData/last48'+symbol+'.pkl'\n",
    "  data.iloc[1:].to_pickle(f)\n",
    "  \n",
    "def getIndicators(data):\n",
    "  strat = ta.Strategy(name='Strategie',\n",
    "                     description='MACD, RSI',\n",
    "                     ta=[\n",
    "                      {'kind':'rsi', 'length':7},\n",
    "                      {'kind':'rsi', 'length':14},\n",
    "                      {'kind':'sma', 'length':7},\n",
    "                      {'kind':'sma', 'length':25},\n",
    "                      {'kind':'macd', 'fast':12 , 'slow':26},\n",
    "                      {'kind':'obv'},\n",
    "                     ])\n",
    "\n",
    "  data.ta.strategy(strat)\n",
    "  print(data.iloc[-1])\n",
    "  return data.iloc[-1]\n",
    "\n",
    "def getPrediction(indicators, symbol):\n",
    "  filename='Models/'+symbol+'_model.pkl'\n",
    "  with open(filename, 'rb') as file:\n",
    "    model = pickle.load(file)\n",
    "  return model.predict(np.array(indicators).reshape(1, -1))\n",
    "  \n",
    "def sellPapier(amount, file):\n",
    "  print(f\"Une vente de {amount}BTC à été effectuée.\\n\\n\")\n",
    "  \n",
    "def buyPapier(amount, file):\n",
    "  print(f\"Un achat de {amount}BTC à été effectué.\\n\\n\")\n",
    "\n",
    "def waitPapier(file):\n",
    "  print(\"Aucune action à été effectué.\\n\\n\")\n",
    "\n",
    "def paperTrade(prediction, amount):\n",
    "  file = open('log.txt', 'a')\n",
    "  file.write(f\"{datetime.datetime.now()} - La predicton {'UP' if prediction == 2 else ('DOWN' if prediction == 0 else 'NO_MOVEMENT')} a été émise.\\n\")\n",
    "  \n",
    "  \n",
    "  if(prediction == 0):\n",
    "    sellPapier(amount,file)\n",
    "  if(prediction == 2):\n",
    "    buyPapier(amount,file)\n",
    "  if(prediction == 1):\n",
    "    waitPapier(amount,file)\n",
    "  \n",
    "   \n",
    "  \n",
    "\n",
    "client = connectToBinance()\n",
    "candle = getCurrentTicker(client, 'ADAUSDT')\n",
    "data = reteiveOldData(candle, 'ADAUSDT')\n",
    "save48Hours(data,'ADAUSDT')\n",
    "indicators = getIndicators(data)\n",
    "prediction = getPrediction(indicators, 'ADAUSDT')\n",
    "\n",
    "\n",
    "# 0:Down\n",
    "# 1:no mouvement greater then +/-50$\n",
    "# 2:Up\n",
    "# import random\n",
    "# prediction = random.randint(0, 2) ##Evidement à effacer\n",
    "# amount = getAmount(client)\n",
    "# paperTrade(prediction, amount)\n",
    "\n",
    "\n",
    "\n",
    "\n",
    "\n",
    "# if(prediction == 0):\n",
    "# elif(prediction==1):\n",
    "# else:\n",
    "  \n"
   ]
  },
  {
   "cell_type": "code",
   "execution_count": 24,
   "metadata": {},
   "outputs": [],
   "source": [
    "#Reset last34Days\n",
    "\n",
    "def getNamesOfDataFile():\n",
    "  from os import listdir\n",
    "  return [f for f in listdir('Datasets') if f != '.DS_Store']\n",
    "\n",
    "\n",
    "for f in getNamesOfDataFile():\n",
    "  fileName = 'Datasets/'+ f\n",
    "  df = pd.read_csv(fileName, header=1, parse_dates=True, infer_datetime_format=True,index_col='date')\n",
    "  df.dropna(inplace=True, how='any')\n",
    "  df.drop(columns=['unix', 'Volume USDT', 'tradecount','symbol'], inplace=True)\n",
    "  last48Hours = df[-48:]\n",
    "\n",
    "  last48Hours.to_pickle('OldData/last48'+f.split('_')[1]+'.pkl')\n",
    "  \n",
    "  \n",
    "  \n"
   ]
  },
  {
   "cell_type": "code",
   "execution_count": 9,
   "metadata": {},
   "outputs": [
    {
     "ename": "NameError",
     "evalue": "name 'prediction' is not defined",
     "output_type": "error",
     "traceback": [
      "\u001b[0;31m---------------------------------------------------------------------------\u001b[0m",
      "\u001b[0;31mNameError\u001b[0m                                 Traceback (most recent call last)",
      "\u001b[1;32m/Users/sam/Worspace/python/TradingBot/liveData.ipynb Cellule 5\u001b[0m in \u001b[0;36m<cell line: 1>\u001b[0;34m()\u001b[0m\n\u001b[0;32m----> <a href='vscode-notebook-cell:/Users/sam/Worspace/python/TradingBot/liveData.ipynb#W4sZmlsZQ%3D%3D?line=0'>1</a>\u001b[0m prediction\n",
      "\u001b[0;31mNameError\u001b[0m: name 'prediction' is not defined"
     ]
    }
   ],
   "source": [
    "prediction"
   ]
  },
  {
   "cell_type": "code",
   "execution_count": 35,
   "metadata": {},
   "outputs": [],
   "source": [
    "#Log prediction\n",
    "import datetime\n",
    "import random\n",
    "\n",
    "prediction = random.randint(0, 2)\n",
    "f = open('log.txt', 'a')\n",
    "f.write(f\"{datetime.datetime.now()} - La predicton {'UP' if prediction == 2 else ('DOWN' if prediction == 0 else 'NO_MOVEMENT')} a été émise.\\n\")\n",
    "f.close()"
   ]
  },
  {
   "cell_type": "code",
   "execution_count": null,
   "metadata": {},
   "outputs": [],
   "source": []
  },
  {
   "cell_type": "code",
   "execution_count": null,
   "metadata": {},
   "outputs": [],
   "source": []
  },
  {
   "cell_type": "code",
   "execution_count": null,
   "metadata": {},
   "outputs": [],
   "source": []
  }
 ],
 "metadata": {
  "kernelspec": {
   "display_name": "Python 3.9.7 64-bit",
   "language": "python",
   "name": "python3"
  },
  "language_info": {
   "codemirror_mode": {
    "name": "ipython",
    "version": 3
   },
   "file_extension": ".py",
   "mimetype": "text/x-python",
   "name": "python",
   "nbconvert_exporter": "python",
   "pygments_lexer": "ipython3",
   "version": "3.9.7"
  },
  "orig_nbformat": 4,
  "vscode": {
   "interpreter": {
    "hash": "aee8b7b246df8f9039afb4144a1f6fd8d2ca17a180786b69acc140d282b71a49"
   }
  }
 },
 "nbformat": 4,
 "nbformat_minor": 2
}
