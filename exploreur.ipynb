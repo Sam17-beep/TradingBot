{
 "cells": [
  {
   "cell_type": "code",
   "execution_count": 2,
   "metadata": {},
   "outputs": [],
   "source": [
    "import numpy as np\n",
    "import pandas as pd\n",
    "import pandas_ta as ta\n",
    "import datetime"
   ]
  },
  {
   "cell_type": "code",
   "execution_count": 3,
   "metadata": {},
   "outputs": [],
   "source": [
    "df  = pd.read_csv('../Datasets/Binance_BTCUSDT_d.csv', header=1, usecols=['unix','open','high','low','close', 'Volume BTC'])"
   ]
  },
  {
   "cell_type": "code",
   "execution_count": 4,
   "metadata": {},
   "outputs": [
    {
     "data": {
      "text/plain": [
       "Timestamp('2017-08-17 00:00:00')"
      ]
     },
     "execution_count": 4,
     "metadata": {},
     "output_type": "execute_result"
    }
   ],
   "source": [
    "pd.to_datetime(1502928000.0, unit='s')"
   ]
  },
  {
   "cell_type": "code",
   "execution_count": 6,
   "metadata": {},
   "outputs": [],
   "source": [
    "df['diff'] = df['close'] - df['open']\n",
    "\n"
   ]
  },
  {
   "cell_type": "code",
   "execution_count": 7,
   "metadata": {},
   "outputs": [
    {
     "data": {
      "text/html": [
       "<div>\n",
       "<style scoped>\n",
       "    .dataframe tbody tr th:only-of-type {\n",
       "        vertical-align: middle;\n",
       "    }\n",
       "\n",
       "    .dataframe tbody tr th {\n",
       "        vertical-align: top;\n",
       "    }\n",
       "\n",
       "    .dataframe thead th {\n",
       "        text-align: right;\n",
       "    }\n",
       "</style>\n",
       "<table border=\"1\" class=\"dataframe\">\n",
       "  <thead>\n",
       "    <tr style=\"text-align: right;\">\n",
       "      <th></th>\n",
       "      <th>unix</th>\n",
       "      <th>open</th>\n",
       "      <th>high</th>\n",
       "      <th>low</th>\n",
       "      <th>close</th>\n",
       "      <th>Volume BTC</th>\n",
       "      <th>diff</th>\n",
       "    </tr>\n",
       "  </thead>\n",
       "  <tbody>\n",
       "    <tr>\n",
       "      <th>0</th>\n",
       "      <td>1.659053e+12</td>\n",
       "      <td>23845.25</td>\n",
       "      <td>23890.00</td>\n",
       "      <td>23818.26</td>\n",
       "      <td>23836.43</td>\n",
       "      <td>1838.45133</td>\n",
       "      <td>-8.82</td>\n",
       "    </tr>\n",
       "    <tr>\n",
       "      <th>1</th>\n",
       "      <td>1.658966e+12</td>\n",
       "      <td>22954.31</td>\n",
       "      <td>24199.72</td>\n",
       "      <td>22582.13</td>\n",
       "      <td>23842.93</td>\n",
       "      <td>236029.07410</td>\n",
       "      <td>888.62</td>\n",
       "    </tr>\n",
       "    <tr>\n",
       "      <th>2</th>\n",
       "      <td>1.658880e+12</td>\n",
       "      <td>21254.67</td>\n",
       "      <td>23112.63</td>\n",
       "      <td>21042.53</td>\n",
       "      <td>22952.45</td>\n",
       "      <td>210971.19796</td>\n",
       "      <td>1697.78</td>\n",
       "    </tr>\n",
       "    <tr>\n",
       "      <th>3</th>\n",
       "      <td>1.658794e+12</td>\n",
       "      <td>21310.90</td>\n",
       "      <td>21347.82</td>\n",
       "      <td>20706.50</td>\n",
       "      <td>21254.67</td>\n",
       "      <td>177817.24326</td>\n",
       "      <td>-56.23</td>\n",
       "    </tr>\n",
       "    <tr>\n",
       "      <th>4</th>\n",
       "      <td>1.658707e+12</td>\n",
       "      <td>22577.13</td>\n",
       "      <td>22666.00</td>\n",
       "      <td>21250.00</td>\n",
       "      <td>21310.90</td>\n",
       "      <td>180344.76643</td>\n",
       "      <td>-1266.23</td>\n",
       "    </tr>\n",
       "    <tr>\n",
       "      <th>...</th>\n",
       "      <td>...</td>\n",
       "      <td>...</td>\n",
       "      <td>...</td>\n",
       "      <td>...</td>\n",
       "      <td>...</td>\n",
       "      <td>...</td>\n",
       "      <td>...</td>\n",
       "    </tr>\n",
       "    <tr>\n",
       "      <th>1804</th>\n",
       "      <td>1.503274e+09</td>\n",
       "      <td>4086.29</td>\n",
       "      <td>4119.62</td>\n",
       "      <td>3911.79</td>\n",
       "      <td>4016.00</td>\n",
       "      <td>685.12000</td>\n",
       "      <td>-70.29</td>\n",
       "    </tr>\n",
       "    <tr>\n",
       "      <th>1805</th>\n",
       "      <td>1.503187e+09</td>\n",
       "      <td>4139.98</td>\n",
       "      <td>4211.08</td>\n",
       "      <td>4032.62</td>\n",
       "      <td>4086.29</td>\n",
       "      <td>463.54000</td>\n",
       "      <td>-53.69</td>\n",
       "    </tr>\n",
       "    <tr>\n",
       "      <th>1806</th>\n",
       "      <td>1.503101e+09</td>\n",
       "      <td>4108.37</td>\n",
       "      <td>4184.69</td>\n",
       "      <td>3850.00</td>\n",
       "      <td>4139.98</td>\n",
       "      <td>371.15000</td>\n",
       "      <td>31.61</td>\n",
       "    </tr>\n",
       "    <tr>\n",
       "      <th>1807</th>\n",
       "      <td>1.503014e+09</td>\n",
       "      <td>4285.08</td>\n",
       "      <td>4371.52</td>\n",
       "      <td>3938.77</td>\n",
       "      <td>4108.37</td>\n",
       "      <td>1178.07000</td>\n",
       "      <td>-176.71</td>\n",
       "    </tr>\n",
       "    <tr>\n",
       "      <th>1808</th>\n",
       "      <td>1.502928e+09</td>\n",
       "      <td>4469.93</td>\n",
       "      <td>4485.39</td>\n",
       "      <td>4200.74</td>\n",
       "      <td>4285.08</td>\n",
       "      <td>647.86000</td>\n",
       "      <td>-184.85</td>\n",
       "    </tr>\n",
       "  </tbody>\n",
       "</table>\n",
       "<p>1809 rows × 7 columns</p>\n",
       "</div>"
      ],
      "text/plain": [
       "              unix      open      high       low     close    Volume BTC  \\\n",
       "0     1.659053e+12  23845.25  23890.00  23818.26  23836.43    1838.45133   \n",
       "1     1.658966e+12  22954.31  24199.72  22582.13  23842.93  236029.07410   \n",
       "2     1.658880e+12  21254.67  23112.63  21042.53  22952.45  210971.19796   \n",
       "3     1.658794e+12  21310.90  21347.82  20706.50  21254.67  177817.24326   \n",
       "4     1.658707e+12  22577.13  22666.00  21250.00  21310.90  180344.76643   \n",
       "...            ...       ...       ...       ...       ...           ...   \n",
       "1804  1.503274e+09   4086.29   4119.62   3911.79   4016.00     685.12000   \n",
       "1805  1.503187e+09   4139.98   4211.08   4032.62   4086.29     463.54000   \n",
       "1806  1.503101e+09   4108.37   4184.69   3850.00   4139.98     371.15000   \n",
       "1807  1.503014e+09   4285.08   4371.52   3938.77   4108.37    1178.07000   \n",
       "1808  1.502928e+09   4469.93   4485.39   4200.74   4285.08     647.86000   \n",
       "\n",
       "         diff  \n",
       "0       -8.82  \n",
       "1      888.62  \n",
       "2     1697.78  \n",
       "3      -56.23  \n",
       "4    -1266.23  \n",
       "...       ...  \n",
       "1804   -70.29  \n",
       "1805   -53.69  \n",
       "1806    31.61  \n",
       "1807  -176.71  \n",
       "1808  -184.85  \n",
       "\n",
       "[1809 rows x 7 columns]"
      ]
     },
     "execution_count": 7,
     "metadata": {},
     "output_type": "execute_result"
    }
   ],
   "source": [
    "def simplifier(val):\n",
    "  print(val)\n",
    "  break\n"
   ]
  },
  {
   "cell_type": "code",
   "execution_count": null,
   "metadata": {},
   "outputs": [],
   "source": []
  }
 ],
 "metadata": {
  "kernelspec": {
   "display_name": "Python 3.9.7 64-bit",
   "language": "python",
   "name": "python3"
  },
  "language_info": {
   "codemirror_mode": {
    "name": "ipython",
    "version": 3
   },
   "file_extension": ".py",
   "mimetype": "text/x-python",
   "name": "python",
   "nbconvert_exporter": "python",
   "pygments_lexer": "ipython3",
   "version": "3.9.7"
  },
  "orig_nbformat": 4,
  "vscode": {
   "interpreter": {
    "hash": "aee8b7b246df8f9039afb4144a1f6fd8d2ca17a180786b69acc140d282b71a49"
   }
  }
 },
 "nbformat": 4,
 "nbformat_minor": 2
}
