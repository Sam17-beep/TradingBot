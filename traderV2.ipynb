{
 "cells": [
  {
   "cell_type": "code",
   "execution_count": 98,
   "metadata": {},
   "outputs": [],
   "source": [
    "import numpy as np\n",
    "import pandas as pd\n",
    "import pandas_ta as ta\n",
    "from tqdm import tqdm\n",
    "tqdm.pandas()\n",
    "import datetime\n",
    "import itertools\n",
    "\n",
    "from sklearn.model_selection import train_test_split\n",
    "from sklearn.model_selection import GridSearchCV\n",
    "from sklearn.model_selection import RandomizedSearchCV\n",
    "from sklearn.ensemble import RandomForestClassifier\n",
    "from sklearn.model_selection import cross_val_score"
   ]
  },
  {
   "cell_type": "code",
   "execution_count": 89,
   "metadata": {},
   "outputs": [],
   "source": [
    "def setupDF(file):\n",
    "  fileName = '../Datasets/'+ file\n",
    "  df = pd.read_csv(fileName, header=1, parse_dates=True, infer_datetime_format=True, index_col='date')\n",
    "  df.dropna(inplace=True, how='any')\n",
    "  df.drop(columns=['unix', 'Volume USDT', 'tradecount','symbol'], inplace=True)\n",
    "  \n",
    "  return df"
   ]
  },
  {
   "cell_type": "code",
   "execution_count": 90,
   "metadata": {},
   "outputs": [],
   "source": [
    "def createY(df):\n",
    "  df['diff'] = df['close'] - df['open']\n",
    "  df['y'] = df['diff'].apply(lambda x : 1 if x>0 else 0)\n",
    "  df = df[::-1]\n",
    "  df['y'] = df['y'].shift(-1)\n",
    "  testValue = df.iloc[-50:]\n",
    "  df = df[:-1]\n",
    "  return df.drop(columns=['diff'])"
   ]
  },
  {
   "cell_type": "code",
   "execution_count": 91,
   "metadata": {},
   "outputs": [],
   "source": [
    "def applyStrat(df):\n",
    "  strat = ta.Strategy(name='Strategie',\n",
    "                     description='MACD, RSI',\n",
    "                     ta=[\n",
    "                      {'kind':'rsi', 'length':7},\n",
    "                      {'kind':'rsi', 'length':14},\n",
    "                      {'kind':'sma', 'length':7},\n",
    "                      {'kind':'sma', 'length':25},\n",
    "                      {'kind':'macd', 'fast':12 , 'slow':26},\n",
    "                      {'kind':'obv'},\n",
    "                     ])\n",
    "  \n",
    "  df.ta.strategy(strat)\n",
    "  df.dropna(inplace=True, how='any')\n",
    "  return df"
   ]
  },
  {
   "cell_type": "code",
   "execution_count": 116,
   "metadata": {},
   "outputs": [],
   "source": [
    "def getReadyForTraning(file):\n",
    "  df = applyStrat(createY(setupDF(file)))\n",
    "  X = df.drop(columns='y')\n",
    "  y = df['y']\n",
    "  return X,y"
   ]
  },
  {
   "cell_type": "code",
   "execution_count": 155,
   "metadata": {},
   "outputs": [],
   "source": [
    "def modelTrainer(X,y):\n",
    "  X_train, X_test, y_train, y_test = train_test_split(X,y)\n",
    "  \n",
    "  rfc = RandomForestClassifier(random_state=42)\n",
    "  \n",
    "  param_grid = { \n",
    "        'max_depth' : [2,5,8,12],\n",
    "        'min_samples_leaf' : [1,3,5],\n",
    "        'n_estimators' : [64, 128, 256, 512]\n",
    "    } \n",
    "  \n",
    "  CV_rfc = RandomizedSearchCV(rfc, param_distributions=param_grid, n_jobs=-1, n_iter=20)\n",
    "  CV_rfc.fit(X_train,y_train)\n",
    "  \n",
    "  return CV_rfc.best_params_, CV_rfc.best_estimator_.score(X_test,y_test), CV_rfc.best_estimator_\n"
   ]
  },
  {
   "cell_type": "code",
   "execution_count": 156,
   "metadata": {},
   "outputs": [],
   "source": [
    "def getNamesOfDataFile():\n",
    "  from os import listdir\n",
    "  return [f for f in listdir('/Users/sam/Worspace/python/Datasets') if f != '.DS_Store']\n"
   ]
  },
  {
   "cell_type": "code",
   "execution_count": 157,
   "metadata": {},
   "outputs": [
    {
     "name": "stdout",
     "output_type": "stream",
     "text": [
      "Binance_ADAUSDT_1h.csv\n",
      "0.5240362811791384 - {'n_estimators': 64, 'min_samples_leaf': 1, 'max_depth': 2}\n",
      "0.5301587301587302 - {'n_estimators': 512, 'min_samples_leaf': 1, 'max_depth': 5}\n",
      "0.5158730158730159 - {'n_estimators': 512, 'min_samples_leaf': 3, 'max_depth': 5}\n",
      "0.5233560090702948\n",
      "Binance_ETHUSDT_1h.csv\n",
      "0.5335600907029479 - {'n_estimators': 64, 'min_samples_leaf': 1, 'max_depth': 2}\n",
      "0.5294784580498866 - {'n_estimators': 256, 'min_samples_leaf': 1, 'max_depth': 5}\n",
      "0.5340136054421769 - {'n_estimators': 256, 'min_samples_leaf': 5, 'max_depth': 8}\n",
      "0.5323507180650038\n",
      "Binance_BNBUSDT_1h.csv\n",
      "0.509297052154195 - {'n_estimators': 64, 'min_samples_leaf': 5, 'max_depth': 5}\n",
      "0.51859410430839 - {'n_estimators': 512, 'min_samples_leaf': 1, 'max_depth': 5}\n",
      "0.5176870748299319 - {'n_estimators': 128, 'min_samples_leaf': 1, 'max_depth': 2}\n",
      "0.5151927437641723\n",
      "Binance_LTCUSDT_1h.csv\n",
      "0.5435374149659864 - {'n_estimators': 256, 'min_samples_leaf': 5, 'max_depth': 5}\n",
      "0.5356009070294785 - {'n_estimators': 512, 'min_samples_leaf': 3, 'max_depth': 2}\n",
      "0.5396825396825397 - {'n_estimators': 512, 'min_samples_leaf': 3, 'max_depth': 8}\n",
      "0.5396069538926681\n",
      "Binance_XRPUSDT_1h.csv\n",
      "0.5356009070294785 - {'n_estimators': 256, 'min_samples_leaf': 5, 'max_depth': 5}\n",
      "0.5471655328798186 - {'n_estimators': 64, 'min_samples_leaf': 5, 'max_depth': 2}\n",
      "0.545578231292517 - {'n_estimators': 64, 'min_samples_leaf': 5, 'max_depth': 2}\n",
      "0.5427815570672714\n",
      "Binance_BTCUSDT_1h.csv\n",
      "0.5321995464852608 - {'n_estimators': 64, 'min_samples_leaf': 3, 'max_depth': 2}\n",
      "0.5297052154195011 - {'n_estimators': 512, 'min_samples_leaf': 5, 'max_depth': 5}\n",
      "0.5244897959183673 - {'n_estimators': 512, 'min_samples_leaf': 1, 'max_depth': 2}\n",
      "0.5287981859410431\n"
     ]
    }
   ],
   "source": [
    "# models = []\n",
    "for f in getNamesOfDataFile():\n",
    "  l = []\n",
    "  print(f)\n",
    "  for i in range(3):\n",
    "    X, y = getReadyForTraning(f)\n",
    "    bestParams, score, model = modelTrainer(X,y)\n",
    "    l.append(score)\n",
    "    # models.append({'file':f, 'model':model, 'bestParams':bestParams})\n",
    "    print(str(score)+ ' - ' + str(bestParams))\n",
    "  print(str(np.mean(l)))"
   ]
  },
  {
   "cell_type": "code",
   "execution_count": null,
   "metadata": {},
   "outputs": [],
   "source": []
  },
  {
   "cell_type": "code",
   "execution_count": 112,
   "metadata": {},
   "outputs": [
    {
     "data": {
      "text/plain": [
       "0.5299319727891156"
      ]
     },
     "execution_count": 112,
     "metadata": {},
     "output_type": "execute_result"
    }
   ],
   "source": []
  },
  {
   "cell_type": "code",
   "execution_count": null,
   "metadata": {},
   "outputs": [],
   "source": [
    "#{'n_estimators': 128, 'min_samples_leaf': 3, 'max_depth': 2}\n",
    "#{'n_estimators': 64, 'min_samples_leaf': 3, 'max_depth': 2} 0.5299319727891156\n",
    "# {'n_estimators': 128, 'min_samples_leaf': 5, 'max_depth': 2} 0.5299319727891156\n"
   ]
  },
  {
   "cell_type": "code",
   "execution_count": null,
   "metadata": {},
   "outputs": [],
   "source": []
  },
  {
   "cell_type": "code",
   "execution_count": 97,
   "metadata": {},
   "outputs": [
    {
     "data": {
      "text/plain": [
       "['Binance_ADAUSDT_1h.csv',\n",
       " 'Binance_ETHUSDT_1h.csv',\n",
       " 'Binance_BNBUSDT_1h.csv',\n",
       " 'Binance_LTCUSDT_1h.csv',\n",
       " 'Binance_XRPUSDT_1h.csv',\n",
       " 'Binance_BTCUSDT_1h.csv']"
      ]
     },
     "execution_count": 97,
     "metadata": {},
     "output_type": "execute_result"
    }
   ],
   "source": []
  },
  {
   "cell_type": "code",
   "execution_count": null,
   "metadata": {},
   "outputs": [],
   "source": []
  },
  {
   "cell_type": "code",
   "execution_count": null,
   "metadata": {},
   "outputs": [],
   "source": []
  }
 ],
 "metadata": {
  "kernelspec": {
   "display_name": "Python 3.9.7 64-bit",
   "language": "python",
   "name": "python3"
  },
  "language_info": {
   "codemirror_mode": {
    "name": "ipython",
    "version": 3
   },
   "file_extension": ".py",
   "mimetype": "text/x-python",
   "name": "python",
   "nbconvert_exporter": "python",
   "pygments_lexer": "ipython3",
   "version": "3.9.7"
  },
  "orig_nbformat": 4,
  "vscode": {
   "interpreter": {
    "hash": "aee8b7b246df8f9039afb4144a1f6fd8d2ca17a180786b69acc140d282b71a49"
   }
  }
 },
 "nbformat": 4,
 "nbformat_minor": 2
}
