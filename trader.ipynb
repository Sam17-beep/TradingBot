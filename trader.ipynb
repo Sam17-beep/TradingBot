{
 "cells": [
  {
   "cell_type": "code",
   "execution_count": 454,
   "metadata": {},
   "outputs": [],
   "source": [
    "import numpy as np\n",
    "import pandas as pd\n",
    "import pandas_ta as ta\n",
    "import datetime\n",
    "from tqdm import tqdm\n",
    "tqdm.pandas()\n",
    "import csv\n",
    "def setup():\n",
    "  df  = pd.read_csv('../Datasets/Binance_BTCUSDT_1h.csv', header=1, usecols=['unix','Volume BTC','high','low','close', 'open'], nrows=1680)\n",
    "  print(len(df))\n",
    "  df.dropna(inplace=True, how='any')\n",
    "  #'open', 'high','low', 'Volume BTC'\n",
    "  #Transform unix into date readable\n",
    "  df['date']=pd.to_datetime(df['unix'],unit='ms')\n",
    "  df.drop(columns='unix', inplace=True)\n",
    "\n",
    "  df.set_index('date', inplace=True)\n",
    "\n",
    "  df['diff'] = df['close'] - df['open']\n",
    "\n",
    "  def simplifier(val):\n",
    "    if(val > 50):\n",
    "      return 2\n",
    "    elif(val<-50):\n",
    "      return 0\n",
    "    return 1\n",
    "\n",
    "  df['y'] = df['diff'].progress_apply(simplifier)\n",
    "  df = df[::-1]\n",
    "  df['y']=df['y'].shift(-1)\n",
    "  testValue = df.iloc[-34:]\n",
    "  df = df[:-1]\n",
    "\n",
    "  df.drop(columns=['open','diff'], inplace=True)\n",
    "  return df\n"
   ]
  },
  {
   "cell_type": "markdown",
   "metadata": {},
   "source": [
    "# Machine Learning"
   ]
  },
  {
   "cell_type": "code",
   "execution_count": 462,
   "metadata": {},
   "outputs": [
    {
     "name": "stdout",
     "output_type": "stream",
     "text": [
      "1680\n"
     ]
    },
    {
     "name": "stderr",
     "output_type": "stream",
     "text": [
      "100%|██████████| 1680/1680 [00:00<00:00, 566615.53it/s]\n"
     ]
    }
   ],
   "source": [
    "df = setup()"
   ]
  },
  {
   "cell_type": "code",
   "execution_count": 463,
   "metadata": {},
   "outputs": [
    {
     "data": {
      "text/plain": [
       "1679"
      ]
     },
     "execution_count": 463,
     "metadata": {},
     "output_type": "execute_result"
    }
   ],
   "source": [
    "len(df)"
   ]
  },
  {
   "cell_type": "code",
   "execution_count": 464,
   "metadata": {},
   "outputs": [],
   "source": [
    "from sklearn.model_selection import train_test_split\n",
    "from sklearn.ensemble import RandomForestClassifier\n",
    "from sklearn.model_selection import GridSearchCV\n",
    "\n",
    "import pandas_ta as ta"
   ]
  },
  {
   "cell_type": "code",
   "execution_count": 465,
   "metadata": {},
   "outputs": [],
   "source": [
    "strat1 = ta.Strategy(name='Strategie 1',\n",
    "                     description='MACD, RSI',\n",
    "                     ta=[\n",
    "                      {'kind':'macd', 'fast':12 , 'slow':26},\n",
    "                      {'kind':'rsi', 'length':14},\n",
    "                      {'kind':'rsi', 'length':7},\n",
    "                      {'kind':'obv'},\n",
    "                      {'kind':'sma', 'length':99},\n",
    "                      {'kind':'sma', 'length':50},\n",
    "                      {'kind':'sma', 'length':200},\n",
    "                      {'kind':'stoch'},\n",
    "                      {'kind':'rsi', 'length':21},\n",
    "                      {'kind':'rsi', 'length':28},\n",
    "                      {'kind':'ppo'},\n",
    "                      {'kind':'psar'},\n",
    "                      {'kind':'adx'},\n",
    "                      {'kind':'bbands'},\n",
    "                      \n",
    "                     ])"
   ]
  },
  {
   "cell_type": "code",
   "execution_count": 466,
   "metadata": {},
   "outputs": [],
   "source": [
    "#Apply the strategy\n",
    "df.ta.strategy(strat1)\n",
    "#Remove first value because of nan\n",
    "df.drop(columns='PSARs_0.02_0.2', inplace=True)\n",
    "\n",
    "\n",
    "# \n"
   ]
  },
  {
   "cell_type": "code",
   "execution_count": 460,
   "metadata": {},
   "outputs": [],
   "source": [
    "# df.dropna(inplace=True, how='any')"
   ]
  },
  {
   "cell_type": "code",
   "execution_count": 468,
   "metadata": {},
   "outputs": [
    {
     "data": {
      "text/html": [
       "<div>\n",
       "<style scoped>\n",
       "    .dataframe tbody tr th:only-of-type {\n",
       "        vertical-align: middle;\n",
       "    }\n",
       "\n",
       "    .dataframe tbody tr th {\n",
       "        vertical-align: top;\n",
       "    }\n",
       "\n",
       "    .dataframe thead th {\n",
       "        text-align: right;\n",
       "    }\n",
       "</style>\n",
       "<table border=\"1\" class=\"dataframe\">\n",
       "  <thead>\n",
       "    <tr style=\"text-align: right;\">\n",
       "      <th></th>\n",
       "      <th>high</th>\n",
       "      <th>low</th>\n",
       "      <th>close</th>\n",
       "      <th>Volume BTC</th>\n",
       "      <th>y</th>\n",
       "      <th>MACD_12_26_9</th>\n",
       "      <th>MACDh_12_26_9</th>\n",
       "      <th>MACDs_12_26_9</th>\n",
       "      <th>RSI_14</th>\n",
       "      <th>RSI_7</th>\n",
       "      <th>...</th>\n",
       "      <th>PSARaf_0.02_0.2</th>\n",
       "      <th>PSARr_0.02_0.2</th>\n",
       "      <th>ADX_14</th>\n",
       "      <th>DMP_14</th>\n",
       "      <th>DMN_14</th>\n",
       "      <th>BBL_5_2.0</th>\n",
       "      <th>BBM_5_2.0</th>\n",
       "      <th>BBU_5_2.0</th>\n",
       "      <th>BBB_5_2.0</th>\n",
       "      <th>BBP_5_2.0</th>\n",
       "    </tr>\n",
       "    <tr>\n",
       "      <th>date</th>\n",
       "      <th></th>\n",
       "      <th></th>\n",
       "      <th></th>\n",
       "      <th></th>\n",
       "      <th></th>\n",
       "      <th></th>\n",
       "      <th></th>\n",
       "      <th></th>\n",
       "      <th></th>\n",
       "      <th></th>\n",
       "      <th></th>\n",
       "      <th></th>\n",
       "      <th></th>\n",
       "      <th></th>\n",
       "      <th></th>\n",
       "      <th></th>\n",
       "      <th></th>\n",
       "      <th></th>\n",
       "      <th></th>\n",
       "      <th></th>\n",
       "      <th></th>\n",
       "    </tr>\n",
       "  </thead>\n",
       "  <tbody>\n",
       "    <tr>\n",
       "      <th>2022-05-20 01:00:00</th>\n",
       "      <td>30777.33</td>\n",
       "      <td>30130.48</td>\n",
       "      <td>30475.57</td>\n",
       "      <td>4218.55549</td>\n",
       "      <td>0.0</td>\n",
       "      <td>NaN</td>\n",
       "      <td>NaN</td>\n",
       "      <td>NaN</td>\n",
       "      <td>NaN</td>\n",
       "      <td>NaN</td>\n",
       "      <td>...</td>\n",
       "      <td>0.02</td>\n",
       "      <td>0</td>\n",
       "      <td>NaN</td>\n",
       "      <td>NaN</td>\n",
       "      <td>NaN</td>\n",
       "      <td>NaN</td>\n",
       "      <td>NaN</td>\n",
       "      <td>NaN</td>\n",
       "      <td>NaN</td>\n",
       "      <td>NaN</td>\n",
       "    </tr>\n",
       "    <tr>\n",
       "      <th>2022-05-20 02:00:00</th>\n",
       "      <td>30512.80</td>\n",
       "      <td>30228.63</td>\n",
       "      <td>30336.34</td>\n",
       "      <td>1661.00444</td>\n",
       "      <td>0.0</td>\n",
       "      <td>NaN</td>\n",
       "      <td>NaN</td>\n",
       "      <td>NaN</td>\n",
       "      <td>NaN</td>\n",
       "      <td>NaN</td>\n",
       "      <td>...</td>\n",
       "      <td>0.02</td>\n",
       "      <td>0</td>\n",
       "      <td>NaN</td>\n",
       "      <td>NaN</td>\n",
       "      <td>NaN</td>\n",
       "      <td>NaN</td>\n",
       "      <td>NaN</td>\n",
       "      <td>NaN</td>\n",
       "      <td>NaN</td>\n",
       "      <td>NaN</td>\n",
       "    </tr>\n",
       "    <tr>\n",
       "      <th>2022-05-20 03:00:00</th>\n",
       "      <td>30345.24</td>\n",
       "      <td>30136.08</td>\n",
       "      <td>30175.03</td>\n",
       "      <td>1631.13443</td>\n",
       "      <td>0.0</td>\n",
       "      <td>NaN</td>\n",
       "      <td>NaN</td>\n",
       "      <td>NaN</td>\n",
       "      <td>NaN</td>\n",
       "      <td>NaN</td>\n",
       "      <td>...</td>\n",
       "      <td>0.02</td>\n",
       "      <td>0</td>\n",
       "      <td>NaN</td>\n",
       "      <td>NaN</td>\n",
       "      <td>NaN</td>\n",
       "      <td>NaN</td>\n",
       "      <td>NaN</td>\n",
       "      <td>NaN</td>\n",
       "      <td>NaN</td>\n",
       "      <td>NaN</td>\n",
       "    </tr>\n",
       "    <tr>\n",
       "      <th>2022-05-20 04:00:00</th>\n",
       "      <td>30249.10</td>\n",
       "      <td>30012.00</td>\n",
       "      <td>30099.67</td>\n",
       "      <td>1621.85469</td>\n",
       "      <td>2.0</td>\n",
       "      <td>NaN</td>\n",
       "      <td>NaN</td>\n",
       "      <td>NaN</td>\n",
       "      <td>NaN</td>\n",
       "      <td>NaN</td>\n",
       "      <td>...</td>\n",
       "      <td>0.02</td>\n",
       "      <td>0</td>\n",
       "      <td>NaN</td>\n",
       "      <td>NaN</td>\n",
       "      <td>NaN</td>\n",
       "      <td>NaN</td>\n",
       "      <td>NaN</td>\n",
       "      <td>NaN</td>\n",
       "      <td>NaN</td>\n",
       "      <td>NaN</td>\n",
       "    </tr>\n",
       "    <tr>\n",
       "      <th>2022-05-20 05:00:00</th>\n",
       "      <td>30194.27</td>\n",
       "      <td>30025.45</td>\n",
       "      <td>30185.39</td>\n",
       "      <td>1258.50356</td>\n",
       "      <td>0.0</td>\n",
       "      <td>NaN</td>\n",
       "      <td>NaN</td>\n",
       "      <td>NaN</td>\n",
       "      <td>NaN</td>\n",
       "      <td>NaN</td>\n",
       "      <td>...</td>\n",
       "      <td>0.02</td>\n",
       "      <td>0</td>\n",
       "      <td>NaN</td>\n",
       "      <td>NaN</td>\n",
       "      <td>NaN</td>\n",
       "      <td>29985.128862</td>\n",
       "      <td>30254.400</td>\n",
       "      <td>30523.671138</td>\n",
       "      <td>1.780046</td>\n",
       "      <td>0.371858</td>\n",
       "    </tr>\n",
       "    <tr>\n",
       "      <th>...</th>\n",
       "      <td>...</td>\n",
       "      <td>...</td>\n",
       "      <td>...</td>\n",
       "      <td>...</td>\n",
       "      <td>...</td>\n",
       "      <td>...</td>\n",
       "      <td>...</td>\n",
       "      <td>...</td>\n",
       "      <td>...</td>\n",
       "      <td>...</td>\n",
       "      <td>...</td>\n",
       "      <td>...</td>\n",
       "      <td>...</td>\n",
       "      <td>...</td>\n",
       "      <td>...</td>\n",
       "      <td>...</td>\n",
       "      <td>...</td>\n",
       "      <td>...</td>\n",
       "      <td>...</td>\n",
       "      <td>...</td>\n",
       "      <td>...</td>\n",
       "    </tr>\n",
       "    <tr>\n",
       "      <th>2022-05-28 04:00:00</th>\n",
       "      <td>28890.00</td>\n",
       "      <td>28754.40</td>\n",
       "      <td>28833.13</td>\n",
       "      <td>1362.65989</td>\n",
       "      <td>1.0</td>\n",
       "      <td>-98.958465</td>\n",
       "      <td>27.083814</td>\n",
       "      <td>-126.042279</td>\n",
       "      <td>48.887225</td>\n",
       "      <td>53.736092</td>\n",
       "      <td>...</td>\n",
       "      <td>0.04</td>\n",
       "      <td>0</td>\n",
       "      <td>24.889220</td>\n",
       "      <td>16.741952</td>\n",
       "      <td>20.381068</td>\n",
       "      <td>28580.140546</td>\n",
       "      <td>28752.080</td>\n",
       "      <td>28924.019454</td>\n",
       "      <td>1.196014</td>\n",
       "      <td>0.735693</td>\n",
       "    </tr>\n",
       "    <tr>\n",
       "      <th>2022-05-28 05:00:00</th>\n",
       "      <td>28949.39</td>\n",
       "      <td>28777.02</td>\n",
       "      <td>28876.96</td>\n",
       "      <td>1812.58195</td>\n",
       "      <td>1.0</td>\n",
       "      <td>-82.959664</td>\n",
       "      <td>34.466091</td>\n",
       "      <td>-117.425756</td>\n",
       "      <td>50.043147</td>\n",
       "      <td>56.128181</td>\n",
       "      <td>...</td>\n",
       "      <td>0.06</td>\n",
       "      <td>0</td>\n",
       "      <td>23.502257</td>\n",
       "      <td>17.492439</td>\n",
       "      <td>19.517536</td>\n",
       "      <td>28569.010360</td>\n",
       "      <td>28766.212</td>\n",
       "      <td>28963.413640</td>\n",
       "      <td>1.371064</td>\n",
       "      <td>0.780799</td>\n",
       "    </tr>\n",
       "    <tr>\n",
       "      <th>2022-05-28 06:00:00</th>\n",
       "      <td>28917.98</td>\n",
       "      <td>28770.78</td>\n",
       "      <td>28865.21</td>\n",
       "      <td>1267.23219</td>\n",
       "      <td>1.0</td>\n",
       "      <td>-70.416904</td>\n",
       "      <td>37.607081</td>\n",
       "      <td>-108.023986</td>\n",
       "      <td>49.718532</td>\n",
       "      <td>55.234953</td>\n",
       "      <td>...</td>\n",
       "      <td>0.06</td>\n",
       "      <td>0</td>\n",
       "      <td>22.244364</td>\n",
       "      <td>16.836398</td>\n",
       "      <td>18.944531</td>\n",
       "      <td>28679.402372</td>\n",
       "      <td>28816.090</td>\n",
       "      <td>28952.777628</td>\n",
       "      <td>0.948690</td>\n",
       "      <td>0.679680</td>\n",
       "    </tr>\n",
       "    <tr>\n",
       "      <th>2022-05-28 07:00:00</th>\n",
       "      <td>28917.15</td>\n",
       "      <td>28819.20</td>\n",
       "      <td>28885.72</td>\n",
       "      <td>983.03562</td>\n",
       "      <td>1.0</td>\n",
       "      <td>-58.151358</td>\n",
       "      <td>39.898102</td>\n",
       "      <td>-98.049460</td>\n",
       "      <td>50.324264</td>\n",
       "      <td>56.640170</td>\n",
       "      <td>...</td>\n",
       "      <td>0.06</td>\n",
       "      <td>0</td>\n",
       "      <td>21.076321</td>\n",
       "      <td>16.395748</td>\n",
       "      <td>18.448706</td>\n",
       "      <td>28804.782386</td>\n",
       "      <td>28856.044</td>\n",
       "      <td>28907.305614</td>\n",
       "      <td>0.355292</td>\n",
       "      <td>0.789456</td>\n",
       "    </tr>\n",
       "    <tr>\n",
       "      <th>2022-05-28 08:00:00</th>\n",
       "      <td>28925.00</td>\n",
       "      <td>28766.68</td>\n",
       "      <td>28838.49</td>\n",
       "      <td>1433.54976</td>\n",
       "      <td>1.0</td>\n",
       "      <td>-51.646542</td>\n",
       "      <td>37.122335</td>\n",
       "      <td>-88.768876</td>\n",
       "      <td>48.864434</td>\n",
       "      <td>52.234979</td>\n",
       "      <td>...</td>\n",
       "      <td>0.06</td>\n",
       "      <td>0</td>\n",
       "      <td>20.271141</td>\n",
       "      <td>15.681345</td>\n",
       "      <td>19.090294</td>\n",
       "      <td>28818.323803</td>\n",
       "      <td>28859.902</td>\n",
       "      <td>28901.480197</td>\n",
       "      <td>0.288138</td>\n",
       "      <td>0.242509</td>\n",
       "    </tr>\n",
       "  </tbody>\n",
       "</table>\n",
       "<p>200 rows × 32 columns</p>\n",
       "</div>"
      ],
      "text/plain": [
       "                         high       low     close  Volume BTC    y  \\\n",
       "date                                                                 \n",
       "2022-05-20 01:00:00  30777.33  30130.48  30475.57  4218.55549  0.0   \n",
       "2022-05-20 02:00:00  30512.80  30228.63  30336.34  1661.00444  0.0   \n",
       "2022-05-20 03:00:00  30345.24  30136.08  30175.03  1631.13443  0.0   \n",
       "2022-05-20 04:00:00  30249.10  30012.00  30099.67  1621.85469  2.0   \n",
       "2022-05-20 05:00:00  30194.27  30025.45  30185.39  1258.50356  0.0   \n",
       "...                       ...       ...       ...         ...  ...   \n",
       "2022-05-28 04:00:00  28890.00  28754.40  28833.13  1362.65989  1.0   \n",
       "2022-05-28 05:00:00  28949.39  28777.02  28876.96  1812.58195  1.0   \n",
       "2022-05-28 06:00:00  28917.98  28770.78  28865.21  1267.23219  1.0   \n",
       "2022-05-28 07:00:00  28917.15  28819.20  28885.72   983.03562  1.0   \n",
       "2022-05-28 08:00:00  28925.00  28766.68  28838.49  1433.54976  1.0   \n",
       "\n",
       "                     MACD_12_26_9  MACDh_12_26_9  MACDs_12_26_9     RSI_14  \\\n",
       "date                                                                         \n",
       "2022-05-20 01:00:00           NaN            NaN            NaN        NaN   \n",
       "2022-05-20 02:00:00           NaN            NaN            NaN        NaN   \n",
       "2022-05-20 03:00:00           NaN            NaN            NaN        NaN   \n",
       "2022-05-20 04:00:00           NaN            NaN            NaN        NaN   \n",
       "2022-05-20 05:00:00           NaN            NaN            NaN        NaN   \n",
       "...                           ...            ...            ...        ...   \n",
       "2022-05-28 04:00:00    -98.958465      27.083814    -126.042279  48.887225   \n",
       "2022-05-28 05:00:00    -82.959664      34.466091    -117.425756  50.043147   \n",
       "2022-05-28 06:00:00    -70.416904      37.607081    -108.023986  49.718532   \n",
       "2022-05-28 07:00:00    -58.151358      39.898102     -98.049460  50.324264   \n",
       "2022-05-28 08:00:00    -51.646542      37.122335     -88.768876  48.864434   \n",
       "\n",
       "                         RSI_7  ...  PSARaf_0.02_0.2  PSARr_0.02_0.2  \\\n",
       "date                            ...                                    \n",
       "2022-05-20 01:00:00        NaN  ...             0.02               0   \n",
       "2022-05-20 02:00:00        NaN  ...             0.02               0   \n",
       "2022-05-20 03:00:00        NaN  ...             0.02               0   \n",
       "2022-05-20 04:00:00        NaN  ...             0.02               0   \n",
       "2022-05-20 05:00:00        NaN  ...             0.02               0   \n",
       "...                        ...  ...              ...             ...   \n",
       "2022-05-28 04:00:00  53.736092  ...             0.04               0   \n",
       "2022-05-28 05:00:00  56.128181  ...             0.06               0   \n",
       "2022-05-28 06:00:00  55.234953  ...             0.06               0   \n",
       "2022-05-28 07:00:00  56.640170  ...             0.06               0   \n",
       "2022-05-28 08:00:00  52.234979  ...             0.06               0   \n",
       "\n",
       "                        ADX_14     DMP_14     DMN_14     BBL_5_2.0  BBM_5_2.0  \\\n",
       "date                                                                            \n",
       "2022-05-20 01:00:00        NaN        NaN        NaN           NaN        NaN   \n",
       "2022-05-20 02:00:00        NaN        NaN        NaN           NaN        NaN   \n",
       "2022-05-20 03:00:00        NaN        NaN        NaN           NaN        NaN   \n",
       "2022-05-20 04:00:00        NaN        NaN        NaN           NaN        NaN   \n",
       "2022-05-20 05:00:00        NaN        NaN        NaN  29985.128862  30254.400   \n",
       "...                        ...        ...        ...           ...        ...   \n",
       "2022-05-28 04:00:00  24.889220  16.741952  20.381068  28580.140546  28752.080   \n",
       "2022-05-28 05:00:00  23.502257  17.492439  19.517536  28569.010360  28766.212   \n",
       "2022-05-28 06:00:00  22.244364  16.836398  18.944531  28679.402372  28816.090   \n",
       "2022-05-28 07:00:00  21.076321  16.395748  18.448706  28804.782386  28856.044   \n",
       "2022-05-28 08:00:00  20.271141  15.681345  19.090294  28818.323803  28859.902   \n",
       "\n",
       "                        BBU_5_2.0  BBB_5_2.0  BBP_5_2.0  \n",
       "date                                                     \n",
       "2022-05-20 01:00:00           NaN        NaN        NaN  \n",
       "2022-05-20 02:00:00           NaN        NaN        NaN  \n",
       "2022-05-20 03:00:00           NaN        NaN        NaN  \n",
       "2022-05-20 04:00:00           NaN        NaN        NaN  \n",
       "2022-05-20 05:00:00  30523.671138   1.780046   0.371858  \n",
       "...                           ...        ...        ...  \n",
       "2022-05-28 04:00:00  28924.019454   1.196014   0.735693  \n",
       "2022-05-28 05:00:00  28963.413640   1.371064   0.780799  \n",
       "2022-05-28 06:00:00  28952.777628   0.948690   0.679680  \n",
       "2022-05-28 07:00:00  28907.305614   0.355292   0.789456  \n",
       "2022-05-28 08:00:00  28901.480197   0.288138   0.242509  \n",
       "\n",
       "[200 rows x 32 columns]"
      ]
     },
     "execution_count": 468,
     "metadata": {},
     "output_type": "execute_result"
    }
   ],
   "source": [
    "df.head(200)"
   ]
  },
  {
   "cell_type": "code",
   "execution_count": null,
   "metadata": {},
   "outputs": [],
   "source": []
  },
  {
   "cell_type": "code",
   "execution_count": 390,
   "metadata": {},
   "outputs": [],
   "source": [
    "# from sklearn.model_selection import cross_val_score\n",
    "\n",
    "\n",
    "def modelForest(col):\n",
    "  X = df[col]\n",
    "  y = df['y']\n",
    "  X_train, X_test, y_train, y_test = train_test_split(X,y, train_size=0.9, )\n",
    "  \n",
    "  rfc = RandomForestClassifier(bootstrap=True, oob_score=True,random_state=42, n_estimators=100,)\n",
    "  \n",
    "  param_grid = { \n",
    "        'max_depth' : [3,5,10, 20, None],\n",
    "        'min_samples_leaf' : [1,3,5],\n",
    "        'max_features' : ['sqrt',0.5]\n",
    "          \n",
    "    } \n",
    "  \n",
    "  CV_rfc = GridSearchCV(estimator=rfc, param_grid=param_grid, cv=2, n_jobs=-1,  error_score='raise')\n",
    "  CV_rfc.fit(X_train, y_train)\n",
    "  \n",
    "  return CV_rfc.best_estimator_.oob_score_ , CV_rfc.best_params_, CV_rfc.score(X_test,y_test)\n",
    "  "
   ]
  },
  {
   "cell_type": "code",
   "execution_count": 391,
   "metadata": {},
   "outputs": [
    {
     "name": "stderr",
     "output_type": "stream",
     "text": [
      "  0%|          | 1/20825 [00:04<27:42:44,  4.79s/it]"
     ]
    },
    {
     "name": "stdout",
     "output_type": "stream",
     "text": [
      "Oob:0.47518796992481205 -- Unseen: 0.5064935064935064 -- ('MACD_12_26_9', 'MACDs_12_26_9') ---- {'max_depth': 3, 'max_features': 'sqrt', 'min_samples_leaf': 1}\n"
     ]
    },
    {
     "name": "stderr",
     "output_type": "stream",
     "text": [
      "  0%|          | 4/20825 [00:10<12:33:30,  2.17s/it]"
     ]
    },
    {
     "name": "stdout",
     "output_type": "stream",
     "text": [
      "Oob:0.47518796992481205 -- Unseen: 0.4935064935064935 -- ('MACD_12_26_9', 'OBV') ---- {'max_depth': 5, 'max_features': 'sqrt', 'min_samples_leaf': 1}\n"
     ]
    },
    {
     "name": "stderr",
     "output_type": "stream",
     "text": [
      "  0%|          | 32/20825 [01:03<11:29:39,  1.99s/it]"
     ]
    },
    {
     "name": "stdout",
     "output_type": "stream",
     "text": [
      "Oob:0.47518796992481205 -- Unseen: 0.35064935064935066 -- ('MACDh_12_26_9', 'SMA_200') ---- {'max_depth': 3, 'max_features': 'sqrt', 'min_samples_leaf': 1}\n"
     ]
    },
    {
     "name": "stderr",
     "output_type": "stream",
     "text": [
      "  0%|          | 64/20825 [02:09<12:17:08,  2.13s/it]"
     ]
    },
    {
     "name": "stdout",
     "output_type": "stream",
     "text": [
      "Oob:0.47518796992481205 -- Unseen: 0.4025974025974026 -- ('MACDs_12_26_9', 'PSARl_0.02_0.2') ---- {'max_depth': 3, 'max_features': 'sqrt', 'min_samples_leaf': 3}\n"
     ]
    },
    {
     "name": "stderr",
     "output_type": "stream",
     "text": [
      "  1%|          | 195/20825 [07:00<12:55:03,  2.25s/it]"
     ]
    },
    {
     "name": "stdout",
     "output_type": "stream",
     "text": [
      "Oob:0.47518796992481205 -- Unseen: 0.37662337662337664 -- ('SMA_200', 'BBU_5_2.0') ---- {'max_depth': 3, 'max_features': 'sqrt', 'min_samples_leaf': 5}\n"
     ]
    },
    {
     "name": "stderr",
     "output_type": "stream",
     "text": [
      "  1%|          | 255/20825 [09:18<13:41:33,  2.40s/it]"
     ]
    },
    {
     "name": "stdout",
     "output_type": "stream",
     "text": [
      "Oob:0.47518796992481205 -- Unseen: 0.4155844155844156 -- ('RSI_28', 'BBL_5_2.0') ---- {'max_depth': 5, 'max_features': 'sqrt', 'min_samples_leaf': 3}\n"
     ]
    },
    {
     "name": "stderr",
     "output_type": "stream",
     "text": [
      "  1%|          | 257/20825 [09:22<13:17:39,  2.33s/it]"
     ]
    },
    {
     "name": "stdout",
     "output_type": "stream",
     "text": [
      "Oob:0.47518796992481205 -- Unseen: 0.4155844155844156 -- ('RSI_28', 'BBU_5_2.0') ---- {'max_depth': 3, 'max_features': 'sqrt', 'min_samples_leaf': 1}\n"
     ]
    },
    {
     "name": "stderr",
     "output_type": "stream",
     "text": [
      "  9%|▊         | 1784/20825 [1:05:24<11:42:43,  2.21s/it]"
     ]
    },
    {
     "name": "stdout",
     "output_type": "stream",
     "text": [
      "Oob:0.47518796992481205 -- Unseen: 0.38961038961038963 -- ('OBV', 'SMA_200', 'PSARr_0.02_0.2') ---- {'max_depth': 20, 'max_features': 'sqrt', 'min_samples_leaf': 5}\n"
     ]
    },
    {
     "name": "stderr",
     "output_type": "stream",
     "text": [
      "100%|██████████| 20825/20825 [13:14:16<00:00,  2.29s/it]  \n"
     ]
    }
   ],
   "source": [
    "import itertools\n",
    "l = []\n",
    "a = list(df.columns)\n",
    "# a.remove('PSARs_0.02_0.2')\n",
    "a.remove('low')\n",
    "a.remove('close')\n",
    "a.remove('high')\n",
    "a.remove('Volume BTC')\n",
    "b = [x for x in a if 'y' not in x]\n",
    "\n",
    "for i in range(2,5):\n",
    "   l.append(list(itertools.combinations(b,i)))\n",
    "\n",
    "l2 = [item for sublist in l for item in sublist][1:]\n",
    "maxOOB = 0\n",
    "maxUnseen = 0\n",
    "\n",
    "\n",
    "listOOB =[]\n",
    "listUnseen = []\n",
    "\n",
    "for l3 in tqdm(l2):\n",
    "   res = modelForest(list(l3))\n",
    "   n = res[0]\n",
    "   m= res[1]\n",
    "   p = res[2]\n",
    "   \n",
    "   \n",
    "   if(n>maxOOB):\n",
    "      maxOOB = n\n",
    "      listOOB.append('Oob:' + str(max) +' -- '+ 'Unseen: '+str(p) +' -- '+ str(l3) + ' ---- ' + str(m))\n",
    "      print('Oob:' + str(max) +' -- '+ 'Unseen: '+str(p) +' -- '+ str(l3) + ' ---- ' + str(m))\n",
    "   if(p>maxUnseen):\n",
    "      maxUnseen = p\n",
    "      listUnseen.append('Unseen: '+str(maxUnseen) + ' -- ' + 'Oob: ' + str(n) +' -- '+ str(l3) + ' ---- ' + str(m))\n",
    "      # print('Unseen: '+str(p))\n",
    "\n"
   ]
  },
  {
   "cell_type": "code",
   "execution_count": 164,
   "metadata": {},
   "outputs": [],
   "source": [
    "# ('OBV', 'SMA_25', 'SMA_99') -- 0.5506329113924051 ---- {'max_features': 'sqrt', 'n_estimators': 1700}\n",
    "# 'SMA_50', 'RSI_10', 'RSI_24') -- 0.5180451127819549 ---- {'max_depth': 5, 'n_estimators': 2100}"
   ]
  },
  {
   "cell_type": "code",
   "execution_count": 393,
   "metadata": {},
   "outputs": [
    {
     "data": {
      "text/plain": [
       "[\"Oob:0.47518796992481205 -- Unseen: 0.5064935064935064 -- ('MACD_12_26_9', 'MACDs_12_26_9') ---- {'max_depth': 3, 'max_features': 'sqrt', 'min_samples_leaf': 1}\",\n",
       " \"Oob:0.47518796992481205 -- Unseen: 0.4935064935064935 -- ('MACD_12_26_9', 'OBV') ---- {'max_depth': 5, 'max_features': 'sqrt', 'min_samples_leaf': 1}\",\n",
       " \"Oob:0.47518796992481205 -- Unseen: 0.35064935064935066 -- ('MACDh_12_26_9', 'SMA_200') ---- {'max_depth': 3, 'max_features': 'sqrt', 'min_samples_leaf': 1}\",\n",
       " \"Oob:0.47518796992481205 -- Unseen: 0.4025974025974026 -- ('MACDs_12_26_9', 'PSARl_0.02_0.2') ---- {'max_depth': 3, 'max_features': 'sqrt', 'min_samples_leaf': 3}\",\n",
       " \"Oob:0.47518796992481205 -- Unseen: 0.37662337662337664 -- ('SMA_200', 'BBU_5_2.0') ---- {'max_depth': 3, 'max_features': 'sqrt', 'min_samples_leaf': 5}\",\n",
       " \"Oob:0.47518796992481205 -- Unseen: 0.4155844155844156 -- ('RSI_28', 'BBL_5_2.0') ---- {'max_depth': 5, 'max_features': 'sqrt', 'min_samples_leaf': 3}\",\n",
       " \"Oob:0.47518796992481205 -- Unseen: 0.4155844155844156 -- ('RSI_28', 'BBU_5_2.0') ---- {'max_depth': 3, 'max_features': 'sqrt', 'min_samples_leaf': 1}\",\n",
       " \"Oob:0.47518796992481205 -- Unseen: 0.38961038961038963 -- ('OBV', 'SMA_200', 'PSARr_0.02_0.2') ---- {'max_depth': 20, 'max_features': 'sqrt', 'min_samples_leaf': 5}\"]"
      ]
     },
     "execution_count": 393,
     "metadata": {},
     "output_type": "execute_result"
    }
   ],
   "source": [
    "listOOB\n",
    "# \"Unseen: 0.6753246753246753 -- Oob: 0.4444444444444444 -- ('MACD_12_26_9', 'SMA_200', 'PPOh_12_26_9', 'BBP_5_2.0') ---- {'max_depth': 3, 'max_features': 'sqrt', 'min_samples_leaf': 3}\""
   ]
  },
  {
   "cell_type": "code",
   "execution_count": 433,
   "metadata": {},
   "outputs": [
    {
     "name": "stdout",
     "output_type": "stream",
     "text": [
      "CrossVal: 0.472972972972973\n",
      "Unseen: 0.49222797927461137\n"
     ]
    }
   ],
   "source": [
    "from sklearn.model_selection import cross_val_score\n",
    "\n",
    "\n",
    "X = df[['MACD_12_26_9', 'SMA_200', 'PPOh_12_26_9', 'BBP_5_2.0']]\n",
    "y = df['y']\n",
    "l1 = []\n",
    "l2 = []\n",
    "# for i in range(4):\n",
    "X_train, X_test, y_train, y_test = train_test_split(X,y)\n",
    "rfc = RandomForestClassifier(max_depth= 3, max_features= 'sqrt', min_samples_leaf= 3 ,random_state=42)\n",
    "l1.append(np.mean(cross_val_score(rfc, X_train, y_train, cv=16, n_jobs=-1)))\n",
    "rfc.fit(X_train,y_train)\n",
    "l2.append(rfc.score(X_test, y_test))\n",
    "print('CrossVal: ' + str(np.mean(l1)))\n",
    "print('Unseen: ' + str(np.mean(l2)))\n",
    "\n"
   ]
  },
  {
   "cell_type": "code",
   "execution_count": 215,
   "metadata": {},
   "outputs": [
    {
     "data": {
      "text/html": [
       "<style>#sk-container-id-1 {color: black;background-color: white;}#sk-container-id-1 pre{padding: 0;}#sk-container-id-1 div.sk-toggleable {background-color: white;}#sk-container-id-1 label.sk-toggleable__label {cursor: pointer;display: block;width: 100%;margin-bottom: 0;padding: 0.3em;box-sizing: border-box;text-align: center;}#sk-container-id-1 label.sk-toggleable__label-arrow:before {content: \"▸\";float: left;margin-right: 0.25em;color: #696969;}#sk-container-id-1 label.sk-toggleable__label-arrow:hover:before {color: black;}#sk-container-id-1 div.sk-estimator:hover label.sk-toggleable__label-arrow:before {color: black;}#sk-container-id-1 div.sk-toggleable__content {max-height: 0;max-width: 0;overflow: hidden;text-align: left;background-color: #f0f8ff;}#sk-container-id-1 div.sk-toggleable__content pre {margin: 0.2em;color: black;border-radius: 0.25em;background-color: #f0f8ff;}#sk-container-id-1 input.sk-toggleable__control:checked~div.sk-toggleable__content {max-height: 200px;max-width: 100%;overflow: auto;}#sk-container-id-1 input.sk-toggleable__control:checked~label.sk-toggleable__label-arrow:before {content: \"▾\";}#sk-container-id-1 div.sk-estimator input.sk-toggleable__control:checked~label.sk-toggleable__label {background-color: #d4ebff;}#sk-container-id-1 div.sk-label input.sk-toggleable__control:checked~label.sk-toggleable__label {background-color: #d4ebff;}#sk-container-id-1 input.sk-hidden--visually {border: 0;clip: rect(1px 1px 1px 1px);clip: rect(1px, 1px, 1px, 1px);height: 1px;margin: -1px;overflow: hidden;padding: 0;position: absolute;width: 1px;}#sk-container-id-1 div.sk-estimator {font-family: monospace;background-color: #f0f8ff;border: 1px dotted black;border-radius: 0.25em;box-sizing: border-box;margin-bottom: 0.5em;}#sk-container-id-1 div.sk-estimator:hover {background-color: #d4ebff;}#sk-container-id-1 div.sk-parallel-item::after {content: \"\";width: 100%;border-bottom: 1px solid gray;flex-grow: 1;}#sk-container-id-1 div.sk-label:hover label.sk-toggleable__label {background-color: #d4ebff;}#sk-container-id-1 div.sk-serial::before {content: \"\";position: absolute;border-left: 1px solid gray;box-sizing: border-box;top: 0;bottom: 0;left: 50%;z-index: 0;}#sk-container-id-1 div.sk-serial {display: flex;flex-direction: column;align-items: center;background-color: white;padding-right: 0.2em;padding-left: 0.2em;position: relative;}#sk-container-id-1 div.sk-item {position: relative;z-index: 1;}#sk-container-id-1 div.sk-parallel {display: flex;align-items: stretch;justify-content: center;background-color: white;position: relative;}#sk-container-id-1 div.sk-item::before, #sk-container-id-1 div.sk-parallel-item::before {content: \"\";position: absolute;border-left: 1px solid gray;box-sizing: border-box;top: 0;bottom: 0;left: 50%;z-index: -1;}#sk-container-id-1 div.sk-parallel-item {display: flex;flex-direction: column;z-index: 1;position: relative;background-color: white;}#sk-container-id-1 div.sk-parallel-item:first-child::after {align-self: flex-end;width: 50%;}#sk-container-id-1 div.sk-parallel-item:last-child::after {align-self: flex-start;width: 50%;}#sk-container-id-1 div.sk-parallel-item:only-child::after {width: 0;}#sk-container-id-1 div.sk-dashed-wrapped {border: 1px dashed gray;margin: 0 0.4em 0.5em 0.4em;box-sizing: border-box;padding-bottom: 0.4em;background-color: white;}#sk-container-id-1 div.sk-label label {font-family: monospace;font-weight: bold;display: inline-block;line-height: 1.2em;}#sk-container-id-1 div.sk-label-container {text-align: center;}#sk-container-id-1 div.sk-container {/* jupyter's `normalize.less` sets `[hidden] { display: none; }` but bootstrap.min.css set `[hidden] { display: none !important; }` so we also need the `!important` here to be able to override the default hidden behavior on the sphinx rendered scikit-learn.org. See: https://github.com/scikit-learn/scikit-learn/issues/21755 */display: inline-block !important;position: relative;}#sk-container-id-1 div.sk-text-repr-fallback {display: none;}</style><div id=\"sk-container-id-1\" class=\"sk-top-container\"><div class=\"sk-text-repr-fallback\"><pre>DecisionTreeClassifier()</pre><b>In a Jupyter environment, please rerun this cell to show the HTML representation or trust the notebook. <br />On GitHub, the HTML representation is unable to render, please try loading this page with nbviewer.org.</b></div><div class=\"sk-container\" hidden><div class=\"sk-item\"><div class=\"sk-estimator sk-toggleable\"><input class=\"sk-toggleable__control sk-hidden--visually\" id=\"sk-estimator-id-1\" type=\"checkbox\" checked><label for=\"sk-estimator-id-1\" class=\"sk-toggleable__label sk-toggleable__label-arrow\">DecisionTreeClassifier</label><div class=\"sk-toggleable__content\"><pre>DecisionTreeClassifier()</pre></div></div></div></div></div>"
      ],
      "text/plain": [
       "DecisionTreeClassifier()"
      ]
     },
     "execution_count": 215,
     "metadata": {},
     "output_type": "execute_result"
    }
   ],
   "source": []
  },
  {
   "cell_type": "code",
   "execution_count": 85,
   "metadata": {},
   "outputs": [],
   "source": [
    "import pickle\n",
    "#Save model\n",
    "filename='model.pkl'\n",
    "with open(filename, 'wb') as file:\n",
    "  pickle.dump(None, file) ##############"
   ]
  }
 ],
 "metadata": {
  "kernelspec": {
   "display_name": "Python 3.9.7 64-bit",
   "language": "python",
   "name": "python3"
  },
  "language_info": {
   "codemirror_mode": {
    "name": "ipython",
    "version": 3
   },
   "file_extension": ".py",
   "mimetype": "text/x-python",
   "name": "python",
   "nbconvert_exporter": "python",
   "pygments_lexer": "ipython3",
   "version": "3.9.7"
  },
  "orig_nbformat": 4,
  "vscode": {
   "interpreter": {
    "hash": "aee8b7b246df8f9039afb4144a1f6fd8d2ca17a180786b69acc140d282b71a49"
   }
  }
 },
 "nbformat": 4,
 "nbformat_minor": 2
}
