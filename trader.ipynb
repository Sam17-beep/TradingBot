{
 "cells": [
  {
   "cell_type": "code",
   "execution_count": 284,
   "metadata": {},
   "outputs": [],
   "source": [
    "import numpy as np\n",
    "import pandas as pd\n",
    "import pandas_ta as ta\n",
    "import datetime\n",
    "from tqdm import tqdm\n",
    "tqdm.pandas()"
   ]
  },
  {
   "cell_type": "markdown",
   "metadata": {},
   "source": [
    "import csv"
   ]
  },
  {
   "cell_type": "code",
   "execution_count": 326,
   "metadata": {},
   "outputs": [],
   "source": [
    "df  = pd.read_csv('../Datasets/Binance_BTCUSDT_d.csv', header=1, usecols=['unix','open','high','low','close', 'Volume BTC'], nrows=1680)\n",
    "df.dropna(inplace=True, how='any')"
   ]
  },
  {
   "cell_type": "markdown",
   "metadata": {},
   "source": [
    "Transform unix into date readable"
   ]
  },
  {
   "cell_type": "code",
   "execution_count": 327,
   "metadata": {},
   "outputs": [],
   "source": [
    "df['date']=pd.to_datetime(df['unix'],unit='ms')\n",
    "df.drop(columns='unix', inplace=True)\n"
   ]
  },
  {
   "cell_type": "code",
   "execution_count": 328,
   "metadata": {},
   "outputs": [],
   "source": [
    "df.set_index('date', inplace=True)"
   ]
  },
  {
   "cell_type": "markdown",
   "metadata": {},
   "source": [
    "Define my first strategy"
   ]
  },
  {
   "cell_type": "code",
   "execution_count": 329,
   "metadata": {},
   "outputs": [],
   "source": [
    "strat1 = ta.Strategy(name='Strategie 1',\n",
    "                     description='MACD, RSI, EMA12, EMA26, Stochastic Oscillator',\n",
    "                     ta=[\n",
    "                       {'kind':'macd', 'fast':12 , 'slow':26},\n",
    "                       {'kind':'sma', 'length':50},\n",
    "                       {'kind':'sma', 'length':200},\n",
    "                       {'kind':'stoch'},\n",
    "                       {'kind':'rsi', 'length':5},\n",
    "                       {'kind':'rsi', 'length':8},\n",
    "                       {'kind':'rsi', 'length':10},\n",
    "                       {'kind':'rsi', 'length':15},\n",
    "                       {'kind':'rsi', 'length':14},\n",
    "                       {'kind':'rsi', 'length':24},\n",
    "                       {'kind':'rsi', 'length':20},\n",
    "                       {'kind':'rsi', 'length':60},\n",
    "                       {'kind':'rsi', 'length':95},\n",
    "                       \n",
    "                     ])"
   ]
  },
  {
   "cell_type": "markdown",
   "metadata": {},
   "source": [
    "Apply the strategy"
   ]
  },
  {
   "cell_type": "code",
   "execution_count": 330,
   "metadata": {},
   "outputs": [],
   "source": [
    "df.ta.strategy(strat1)\n"
   ]
  },
  {
   "cell_type": "markdown",
   "metadata": {},
   "source": [
    "Remove first value because of nan"
   ]
  },
  {
   "cell_type": "code",
   "execution_count": 331,
   "metadata": {},
   "outputs": [],
   "source": [
    "df = df.iloc[200:]"
   ]
  },
  {
   "cell_type": "code",
   "execution_count": 332,
   "metadata": {},
   "outputs": [],
   "source": [
    "df['diff'] = df['close'] - df['open']"
   ]
  },
  {
   "cell_type": "code",
   "execution_count": 333,
   "metadata": {},
   "outputs": [
    {
     "name": "stderr",
     "output_type": "stream",
     "text": [
      "100%|██████████| 1480/1480 [00:00<00:00, 737416.24it/s]\n"
     ]
    }
   ],
   "source": [
    "def simplifier(val):\n",
    "  if(val > 50):\n",
    "    return 2\n",
    "  elif(val<-50):\n",
    "    return 0\n",
    "  return 1\n",
    "df['y'] = df['diff'].progress_apply(simplifier)"
   ]
  },
  {
   "cell_type": "code",
   "execution_count": null,
   "metadata": {},
   "outputs": [],
   "source": []
  },
  {
   "cell_type": "markdown",
   "metadata": {},
   "source": [
    "# Machine Learning"
   ]
  },
  {
   "cell_type": "code",
   "execution_count": 334,
   "metadata": {},
   "outputs": [],
   "source": [
    "from sklearn.model_selection import train_test_split"
   ]
  },
  {
   "cell_type": "code",
   "execution_count": 335,
   "metadata": {},
   "outputs": [],
   "source": [
    "df = df[::-1]\n",
    "df['y']=df['y'].shift(-1)"
   ]
  },
  {
   "cell_type": "code",
   "execution_count": 336,
   "metadata": {},
   "outputs": [
    {
     "data": {
      "text/plain": [
       "Index(['open', 'high', 'low', 'close', 'Volume BTC', 'MACD_12_26_9',\n",
       "       'MACDh_12_26_9', 'MACDs_12_26_9', 'SMA_50', 'SMA_200', 'STOCHk_14_3_3',\n",
       "       'STOCHd_14_3_3', 'RSI_5', 'RSI_8', 'RSI_10', 'RSI_15', 'RSI_14',\n",
       "       'RSI_24', 'RSI_20', 'RSI_60', 'RSI_95', 'diff', 'y'],\n",
       "      dtype='object')"
      ]
     },
     "execution_count": 336,
     "metadata": {},
     "output_type": "execute_result"
    }
   ],
   "source": [
    "df.columns"
   ]
  },
  {
   "cell_type": "code",
   "execution_count": 337,
   "metadata": {},
   "outputs": [],
   "source": [
    "df = df[:-1]"
   ]
  },
  {
   "cell_type": "code",
   "execution_count": 449,
   "metadata": {},
   "outputs": [],
   "source": [
    "#X = df.drop(columns=['diff','y'])\n",
    "X=df[['MACD_12_26_9', 'MACDh_12_26_9','RSI_5', 'RSI_10', 'RSI_15']] #0.6824324324324325\n",
    "y = df['y']"
   ]
  },
  {
   "cell_type": "code",
   "execution_count": null,
   "metadata": {},
   "outputs": [],
   "source": []
  },
  {
   "cell_type": "code",
   "execution_count": null,
   "metadata": {},
   "outputs": [],
   "source": []
  },
  {
   "cell_type": "code",
   "execution_count": 450,
   "metadata": {},
   "outputs": [],
   "source": [
    "X_train, X_test, y_train, y_test = train_test_split(X, y, test_size=0.1)"
   ]
  },
  {
   "cell_type": "code",
   "execution_count": 451,
   "metadata": {},
   "outputs": [
    {
     "data": {
      "text/plain": [
       "0.4864864864864865"
      ]
     },
     "execution_count": 451,
     "metadata": {},
     "output_type": "execute_result"
    }
   ],
   "source": [
    "from sklearn.svm import SVC\n",
    "svc = SVC()\n",
    "svc.fit(X_train, y_train)\n",
    "svc.score(X_test, y_test)"
   ]
  },
  {
   "cell_type": "code",
   "execution_count": null,
   "metadata": {},
   "outputs": [],
   "source": []
  },
  {
   "cell_type": "code",
   "execution_count": 452,
   "metadata": {},
   "outputs": [],
   "source": [
    "#https://scikit-learn.org/stable/modules/generated/sklearn.neural_network.MLPClassifier.html?highlight=mlp#sklearn.neural_network.MLPClassifierß\n",
    "from sklearn.neural_network import MLPClassifier\n",
    "parameter_space = {\n",
    "    'hidden_layer_sizes': [(100,),(3,3,3), (10,10,10), (30,100,50)], #(50,50,50), (50,100,50), \n",
    "    'activation': ['tanh', 'relu'],\n",
    "    'solver': ['sgd', 'adam'],\n",
    "    'alpha': [0.0001, 0.05],\n",
    "    'learning_rate': ['constant','adaptive'],\n",
    "}\n",
    "mlp=MLPClassifier(max_iter=500, random_state=1, )"
   ]
  },
  {
   "cell_type": "code",
   "execution_count": 457,
   "metadata": {},
   "outputs": [
    {
     "name": "stdout",
     "output_type": "stream",
     "text": [
      "Fitting 7 folds for each of 64 candidates, totalling 448 fits\n"
     ]
    },
    {
     "name": "stderr",
     "output_type": "stream",
     "text": [
      "/Users/sam/Library/Python/3.9/lib/python/site-packages/sklearn/neural_network/_multilayer_perceptron.py:702: ConvergenceWarning: Stochastic Optimizer: Maximum iterations (500) reached and the optimization hasn't converged yet.\n",
      "  warnings.warn(\n",
      "/Users/sam/Library/Python/3.9/lib/python/site-packages/sklearn/neural_network/_multilayer_perceptron.py:702: ConvergenceWarning: Stochastic Optimizer: Maximum iterations (500) reached and the optimization hasn't converged yet.\n",
      "  warnings.warn(\n",
      "/Users/sam/Library/Python/3.9/lib/python/site-packages/sklearn/neural_network/_multilayer_perceptron.py:702: ConvergenceWarning: Stochastic Optimizer: Maximum iterations (500) reached and the optimization hasn't converged yet.\n",
      "  warnings.warn(\n",
      "/Users/sam/Library/Python/3.9/lib/python/site-packages/sklearn/neural_network/_multilayer_perceptron.py:702: ConvergenceWarning: Stochastic Optimizer: Maximum iterations (500) reached and the optimization hasn't converged yet.\n",
      "  warnings.warn(\n",
      "/Users/sam/Library/Python/3.9/lib/python/site-packages/sklearn/neural_network/_multilayer_perceptron.py:702: ConvergenceWarning: Stochastic Optimizer: Maximum iterations (500) reached and the optimization hasn't converged yet.\n",
      "  warnings.warn(\n"
     ]
    },
    {
     "data": {
      "text/html": [
       "<style>#sk-container-id-38 {color: black;background-color: white;}#sk-container-id-38 pre{padding: 0;}#sk-container-id-38 div.sk-toggleable {background-color: white;}#sk-container-id-38 label.sk-toggleable__label {cursor: pointer;display: block;width: 100%;margin-bottom: 0;padding: 0.3em;box-sizing: border-box;text-align: center;}#sk-container-id-38 label.sk-toggleable__label-arrow:before {content: \"▸\";float: left;margin-right: 0.25em;color: #696969;}#sk-container-id-38 label.sk-toggleable__label-arrow:hover:before {color: black;}#sk-container-id-38 div.sk-estimator:hover label.sk-toggleable__label-arrow:before {color: black;}#sk-container-id-38 div.sk-toggleable__content {max-height: 0;max-width: 0;overflow: hidden;text-align: left;background-color: #f0f8ff;}#sk-container-id-38 div.sk-toggleable__content pre {margin: 0.2em;color: black;border-radius: 0.25em;background-color: #f0f8ff;}#sk-container-id-38 input.sk-toggleable__control:checked~div.sk-toggleable__content {max-height: 200px;max-width: 100%;overflow: auto;}#sk-container-id-38 input.sk-toggleable__control:checked~label.sk-toggleable__label-arrow:before {content: \"▾\";}#sk-container-id-38 div.sk-estimator input.sk-toggleable__control:checked~label.sk-toggleable__label {background-color: #d4ebff;}#sk-container-id-38 div.sk-label input.sk-toggleable__control:checked~label.sk-toggleable__label {background-color: #d4ebff;}#sk-container-id-38 input.sk-hidden--visually {border: 0;clip: rect(1px 1px 1px 1px);clip: rect(1px, 1px, 1px, 1px);height: 1px;margin: -1px;overflow: hidden;padding: 0;position: absolute;width: 1px;}#sk-container-id-38 div.sk-estimator {font-family: monospace;background-color: #f0f8ff;border: 1px dotted black;border-radius: 0.25em;box-sizing: border-box;margin-bottom: 0.5em;}#sk-container-id-38 div.sk-estimator:hover {background-color: #d4ebff;}#sk-container-id-38 div.sk-parallel-item::after {content: \"\";width: 100%;border-bottom: 1px solid gray;flex-grow: 1;}#sk-container-id-38 div.sk-label:hover label.sk-toggleable__label {background-color: #d4ebff;}#sk-container-id-38 div.sk-serial::before {content: \"\";position: absolute;border-left: 1px solid gray;box-sizing: border-box;top: 0;bottom: 0;left: 50%;z-index: 0;}#sk-container-id-38 div.sk-serial {display: flex;flex-direction: column;align-items: center;background-color: white;padding-right: 0.2em;padding-left: 0.2em;position: relative;}#sk-container-id-38 div.sk-item {position: relative;z-index: 1;}#sk-container-id-38 div.sk-parallel {display: flex;align-items: stretch;justify-content: center;background-color: white;position: relative;}#sk-container-id-38 div.sk-item::before, #sk-container-id-38 div.sk-parallel-item::before {content: \"\";position: absolute;border-left: 1px solid gray;box-sizing: border-box;top: 0;bottom: 0;left: 50%;z-index: -1;}#sk-container-id-38 div.sk-parallel-item {display: flex;flex-direction: column;z-index: 1;position: relative;background-color: white;}#sk-container-id-38 div.sk-parallel-item:first-child::after {align-self: flex-end;width: 50%;}#sk-container-id-38 div.sk-parallel-item:last-child::after {align-self: flex-start;width: 50%;}#sk-container-id-38 div.sk-parallel-item:only-child::after {width: 0;}#sk-container-id-38 div.sk-dashed-wrapped {border: 1px dashed gray;margin: 0 0.4em 0.5em 0.4em;box-sizing: border-box;padding-bottom: 0.4em;background-color: white;}#sk-container-id-38 div.sk-label label {font-family: monospace;font-weight: bold;display: inline-block;line-height: 1.2em;}#sk-container-id-38 div.sk-label-container {text-align: center;}#sk-container-id-38 div.sk-container {/* jupyter's `normalize.less` sets `[hidden] { display: none; }` but bootstrap.min.css set `[hidden] { display: none !important; }` so we also need the `!important` here to be able to override the default hidden behavior on the sphinx rendered scikit-learn.org. See: https://github.com/scikit-learn/scikit-learn/issues/21755 */display: inline-block !important;position: relative;}#sk-container-id-38 div.sk-text-repr-fallback {display: none;}</style><div id=\"sk-container-id-38\" class=\"sk-top-container\"><div class=\"sk-text-repr-fallback\"><pre>GridSearchCV(cv=7, estimator=MLPClassifier(max_iter=500, random_state=1),\n",
       "             n_jobs=-1,\n",
       "             param_grid={&#x27;activation&#x27;: [&#x27;tanh&#x27;, &#x27;relu&#x27;],\n",
       "                         &#x27;alpha&#x27;: [0.0001, 0.05],\n",
       "                         &#x27;hidden_layer_sizes&#x27;: [(100,), (3, 3, 3), (10, 10, 10),\n",
       "                                                (30, 100, 50)],\n",
       "                         &#x27;learning_rate&#x27;: [&#x27;constant&#x27;, &#x27;adaptive&#x27;],\n",
       "                         &#x27;solver&#x27;: [&#x27;sgd&#x27;, &#x27;adam&#x27;]},\n",
       "             verbose=1)</pre><b>In a Jupyter environment, please rerun this cell to show the HTML representation or trust the notebook. <br />On GitHub, the HTML representation is unable to render, please try loading this page with nbviewer.org.</b></div><div class=\"sk-container\" hidden><div class=\"sk-item sk-dashed-wrapped\"><div class=\"sk-label-container\"><div class=\"sk-label sk-toggleable\"><input class=\"sk-toggleable__control sk-hidden--visually\" id=\"sk-estimator-id-112\" type=\"checkbox\" ><label for=\"sk-estimator-id-112\" class=\"sk-toggleable__label sk-toggleable__label-arrow\">GridSearchCV</label><div class=\"sk-toggleable__content\"><pre>GridSearchCV(cv=7, estimator=MLPClassifier(max_iter=500, random_state=1),\n",
       "             n_jobs=-1,\n",
       "             param_grid={&#x27;activation&#x27;: [&#x27;tanh&#x27;, &#x27;relu&#x27;],\n",
       "                         &#x27;alpha&#x27;: [0.0001, 0.05],\n",
       "                         &#x27;hidden_layer_sizes&#x27;: [(100,), (3, 3, 3), (10, 10, 10),\n",
       "                                                (30, 100, 50)],\n",
       "                         &#x27;learning_rate&#x27;: [&#x27;constant&#x27;, &#x27;adaptive&#x27;],\n",
       "                         &#x27;solver&#x27;: [&#x27;sgd&#x27;, &#x27;adam&#x27;]},\n",
       "             verbose=1)</pre></div></div></div><div class=\"sk-parallel\"><div class=\"sk-parallel-item\"><div class=\"sk-item\"><div class=\"sk-label-container\"><div class=\"sk-label sk-toggleable\"><input class=\"sk-toggleable__control sk-hidden--visually\" id=\"sk-estimator-id-113\" type=\"checkbox\" ><label for=\"sk-estimator-id-113\" class=\"sk-toggleable__label sk-toggleable__label-arrow\">estimator: MLPClassifier</label><div class=\"sk-toggleable__content\"><pre>MLPClassifier(max_iter=500, random_state=1)</pre></div></div></div><div class=\"sk-serial\"><div class=\"sk-item\"><div class=\"sk-estimator sk-toggleable\"><input class=\"sk-toggleable__control sk-hidden--visually\" id=\"sk-estimator-id-114\" type=\"checkbox\" ><label for=\"sk-estimator-id-114\" class=\"sk-toggleable__label sk-toggleable__label-arrow\">MLPClassifier</label><div class=\"sk-toggleable__content\"><pre>MLPClassifier(max_iter=500, random_state=1)</pre></div></div></div></div></div></div></div></div></div></div>"
      ],
      "text/plain": [
       "GridSearchCV(cv=7, estimator=MLPClassifier(max_iter=500, random_state=1),\n",
       "             n_jobs=-1,\n",
       "             param_grid={'activation': ['tanh', 'relu'],\n",
       "                         'alpha': [0.0001, 0.05],\n",
       "                         'hidden_layer_sizes': [(100,), (3, 3, 3), (10, 10, 10),\n",
       "                                                (30, 100, 50)],\n",
       "                         'learning_rate': ['constant', 'adaptive'],\n",
       "                         'solver': ['sgd', 'adam']},\n",
       "             verbose=1)"
      ]
     },
     "execution_count": 457,
     "metadata": {},
     "output_type": "execute_result"
    }
   ],
   "source": [
    "from sklearn.model_selection import GridSearchCV\n",
    "import warnings\n",
    "warnings.filterwarnings('ignore')\n",
    "\n",
    "clf = GridSearchCV(mlp, parameter_space, n_jobs=-1, verbose=1, cv=7)\n",
    "clf.fit(X_train, y_train)"
   ]
  },
  {
   "cell_type": "code",
   "execution_count": 458,
   "metadata": {},
   "outputs": [
    {
     "name": "stdout",
     "output_type": "stream",
     "text": [
      "Best parameters found:\n",
      " {'activation': 'relu', 'alpha': 0.0001, 'hidden_layer_sizes': (100,), 'learning_rate': 'adaptive', 'solver': 'sgd'}\n"
     ]
    }
   ],
   "source": [
    "# Best paramete set\n",
    "print('Best parameters found:\\n', clf.best_params_)"
   ]
  },
  {
   "cell_type": "code",
   "execution_count": 459,
   "metadata": {},
   "outputs": [
    {
     "data": {
      "text/plain": [
       "0.6891891891891891"
      ]
     },
     "execution_count": 459,
     "metadata": {},
     "output_type": "execute_result"
    }
   ],
   "source": [
    "clf.score(X_test, y_test)"
   ]
  },
  {
   "cell_type": "code",
   "execution_count": 460,
   "metadata": {},
   "outputs": [
    {
     "data": {
      "text/plain": [
       "array([[7.08445138e-01, 2.01080129e-01, 9.04747327e-02],\n",
       "       [1.24409509e-01, 1.67159494e-01, 7.08430997e-01],\n",
       "       [4.16252000e-01, 2.72153165e-01, 3.11594835e-01],\n",
       "       [6.71115558e-01, 2.10623041e-01, 1.18261401e-01],\n",
       "       [3.48407425e-01, 2.94432088e-01, 3.57160487e-01],\n",
       "       [1.66954393e-01, 1.07496650e-01, 7.25548957e-01],\n",
       "       [5.67147415e-01, 1.93017016e-01, 2.39835569e-01],\n",
       "       [6.07356628e-01, 2.68291038e-01, 1.24352333e-01],\n",
       "       [1.08238339e-01, 9.96894393e-02, 7.92072222e-01],\n",
       "       [4.99396901e-01, 1.47902995e-19, 5.00603099e-01],\n",
       "       [1.97029915e-01, 7.93338777e-02, 7.23636207e-01],\n",
       "       [2.70683344e-01, 9.08469675e-02, 6.38469688e-01],\n",
       "       [2.73545973e-01, 3.03097552e-01, 4.23356475e-01],\n",
       "       [5.07948695e-01, 2.56273070e-01, 2.35778235e-01],\n",
       "       [6.08839551e-01, 2.55639003e-01, 1.35521446e-01],\n",
       "       [6.88442422e-02, 1.65678845e-05, 9.31139190e-01],\n",
       "       [3.23265213e-01, 5.41200394e-04, 6.76193586e-01],\n",
       "       [4.77929193e-01, 1.80986581e-01, 3.41084226e-01],\n",
       "       [2.78777610e-01, 5.22081294e-02, 6.69014261e-01],\n",
       "       [1.24116955e-01, 2.12928969e-01, 6.62954076e-01],\n",
       "       [7.46472682e-01, 1.89330518e-01, 6.41967998e-02],\n",
       "       [4.26548678e-01, 2.36400787e-01, 3.37050535e-01],\n",
       "       [7.09219271e-01, 2.13157270e-01, 7.76234592e-02],\n",
       "       [2.66289443e-01, 2.91001090e-01, 4.42709467e-01],\n",
       "       [7.07657838e-01, 1.93624914e-01, 9.87172483e-02],\n",
       "       [1.41397482e-01, 1.66497041e-01, 6.92105477e-01],\n",
       "       [4.34161022e-01, 2.63277983e-01, 3.02560996e-01],\n",
       "       [2.32909562e-01, 2.67344328e-01, 4.99746111e-01],\n",
       "       [5.12400062e-01, 2.69459314e-01, 2.18140624e-01],\n",
       "       [6.32484227e-01, 2.36869449e-01, 1.30646324e-01],\n",
       "       [6.34762822e-01, 2.20496464e-05, 3.65215129e-01],\n",
       "       [2.25790752e-01, 2.46326235e-01, 5.27883012e-01],\n",
       "       [3.77252740e-01, 2.81062497e-01, 3.41684762e-01],\n",
       "       [1.48124262e-01, 2.23528943e-01, 6.28346795e-01],\n",
       "       [6.52405981e-01, 2.21407997e-01, 1.26186022e-01],\n",
       "       [2.44954407e-01, 2.12065119e-01, 5.42980474e-01],\n",
       "       [2.24852580e-01, 2.72942504e-01, 5.02204916e-01],\n",
       "       [4.22192754e-01, 3.18633844e-01, 2.59173402e-01],\n",
       "       [7.57250831e-02, 1.32607039e-01, 7.91667878e-01],\n",
       "       [9.95444635e-02, 5.21744175e-03, 8.95238095e-01],\n",
       "       [7.48557581e-01, 1.86830918e-01, 6.46115009e-02],\n",
       "       [5.39821699e-01, 2.59937858e-01, 2.00240443e-01],\n",
       "       [7.31226200e-01, 2.38105357e-03, 2.66392746e-01],\n",
       "       [7.04176507e-02, 1.98157873e-01, 7.31424476e-01],\n",
       "       [1.70314689e-01, 1.87364942e-01, 6.42320369e-01],\n",
       "       [8.02167936e-01, 1.55021397e-01, 4.28106673e-02],\n",
       "       [1.70388016e-01, 2.47852227e-01, 5.81759757e-01],\n",
       "       [6.79705078e-01, 4.44379960e-12, 3.20294922e-01],\n",
       "       [2.15437535e-01, 2.98320262e-01, 4.86242203e-01],\n",
       "       [1.33944083e-01, 2.38350957e-01, 6.27704960e-01],\n",
       "       [2.66876416e-01, 2.87779946e-01, 4.45343638e-01],\n",
       "       [7.03558587e-01, 2.14272528e-01, 8.21688847e-02],\n",
       "       [8.62394032e-01, 2.72138880e-02, 1.10392080e-01],\n",
       "       [4.36420383e-01, 3.16335814e-01, 2.47243804e-01],\n",
       "       [6.81229011e-01, 2.12825755e-01, 1.05945234e-01],\n",
       "       [8.66649438e-02, 1.25894663e-01, 7.87440394e-01],\n",
       "       [3.37624061e-01, 2.72965583e-01, 3.89410356e-01],\n",
       "       [5.44631654e-01, 2.84533563e-01, 1.70834783e-01],\n",
       "       [2.08751896e-01, 2.80090389e-01, 5.11157714e-01],\n",
       "       [6.65162168e-01, 2.13034384e-01, 1.21803448e-01],\n",
       "       [1.70192226e-01, 1.54640423e-01, 6.75167351e-01],\n",
       "       [7.69306021e-02, 1.45807448e-01, 7.77261949e-01],\n",
       "       [6.54507771e-01, 2.37323944e-01, 1.08168285e-01],\n",
       "       [4.59120550e-01, 2.74948387e-01, 2.65931063e-01],\n",
       "       [3.09836221e-01, 7.00495171e-02, 6.20114262e-01],\n",
       "       [5.74974598e-01, 2.79114280e-01, 1.45911122e-01],\n",
       "       [9.25635416e-02, 1.95631809e-01, 7.11804650e-01],\n",
       "       [3.39719625e-01, 2.65933521e-01, 3.94346855e-01],\n",
       "       [7.01885627e-01, 2.05226677e-01, 9.28876958e-02],\n",
       "       [5.34532769e-01, 4.28612192e-03, 4.61181109e-01],\n",
       "       [2.39354836e-01, 2.85476764e-01, 4.75168400e-01],\n",
       "       [1.65612731e-01, 2.10121997e-01, 6.24265272e-01],\n",
       "       [5.15389640e-01, 2.80607614e-01, 2.04002746e-01],\n",
       "       [7.22757880e-01, 2.78860839e-03, 2.74453511e-01],\n",
       "       [1.83330913e-01, 2.63679575e-01, 5.52989513e-01],\n",
       "       [7.95444633e-01, 1.43179924e-04, 2.04412187e-01],\n",
       "       [7.28483157e-01, 3.07898296e-02, 2.40727013e-01],\n",
       "       [5.97211532e-01, 5.63242493e-02, 3.46464219e-01],\n",
       "       [4.12025927e-01, 2.97901867e-01, 2.90072206e-01],\n",
       "       [6.28143105e-01, 2.21339183e-01, 1.50517712e-01],\n",
       "       [5.42062679e-01, 2.51172579e-01, 2.06764742e-01],\n",
       "       [1.36594074e-01, 2.23542492e-01, 6.39863434e-01],\n",
       "       [6.07461889e-01, 2.41493221e-01, 1.51044889e-01],\n",
       "       [3.77812208e-02, 8.45396669e-02, 8.77679112e-01],\n",
       "       [8.93638173e-01, 2.46754445e-04, 1.06115072e-01],\n",
       "       [1.74523012e-01, 8.38499211e-04, 8.24638489e-01],\n",
       "       [3.33304613e-01, 2.97823994e-01, 3.68871392e-01],\n",
       "       [1.75623390e-01, 2.70631636e-01, 5.53744973e-01],\n",
       "       [6.64116669e-01, 2.31609049e-01, 1.04274282e-01],\n",
       "       [1.77498469e-01, 2.81110743e-01, 5.41390788e-01],\n",
       "       [3.30087358e-01, 2.98619943e-01, 3.71292699e-01],\n",
       "       [6.30360163e-01, 2.84067319e-03, 3.66799164e-01],\n",
       "       [2.13040064e-01, 2.80163287e-01, 5.06796650e-01],\n",
       "       [5.86786026e-01, 2.01055509e-03, 4.11203418e-01],\n",
       "       [3.15792751e-01, 2.23484167e-01, 4.60723082e-01],\n",
       "       [7.70990506e-02, 1.39737895e-01, 7.83163054e-01],\n",
       "       [2.24480881e-01, 4.81995873e-07, 7.75518637e-01],\n",
       "       [3.33810278e-01, 3.04492980e-01, 3.61696742e-01],\n",
       "       [1.29642755e-01, 1.79051370e-01, 6.91305875e-01],\n",
       "       [7.21008606e-01, 2.01277307e-01, 7.77140861e-02],\n",
       "       [5.29740031e-01, 2.64467833e-01, 2.05792137e-01],\n",
       "       [7.35033315e-01, 1.87805356e-01, 7.71613294e-02],\n",
       "       [4.97258217e-01, 1.67512911e-01, 3.35228872e-01],\n",
       "       [1.32432145e-01, 1.96726607e-01, 6.70841248e-01],\n",
       "       [5.02151850e-01, 2.87247984e-01, 2.10600166e-01],\n",
       "       [3.13629518e-01, 2.77766456e-01, 4.08604026e-01],\n",
       "       [8.54953418e-02, 1.96332254e-01, 7.18172404e-01],\n",
       "       [4.29899538e-02, 1.05301008e-01, 8.51709038e-01],\n",
       "       [1.78292351e-01, 2.56858556e-01, 5.64849093e-01],\n",
       "       [6.88193353e-01, 2.04086668e-01, 1.07719979e-01],\n",
       "       [5.87680781e-01, 2.44324657e-01, 1.67994562e-01],\n",
       "       [1.57199242e-01, 1.34428452e-01, 7.08372305e-01],\n",
       "       [6.32101413e-01, 2.28119069e-01, 1.39779517e-01],\n",
       "       [7.12735894e-01, 2.01029776e-01, 8.62343301e-02],\n",
       "       [2.26924572e-01, 2.02094953e-01, 5.70980474e-01],\n",
       "       [2.84222152e-01, 3.01132198e-01, 4.14645650e-01],\n",
       "       [2.62669753e-01, 1.60184248e-01, 5.77145999e-01],\n",
       "       [6.61118245e-01, 2.09699573e-01, 1.29182182e-01],\n",
       "       [2.35591159e-01, 1.35957760e-02, 7.50813065e-01],\n",
       "       [4.40063290e-01, 2.87907265e-01, 2.72029445e-01],\n",
       "       [1.18370069e-01, 2.29601368e-01, 6.52028563e-01],\n",
       "       [1.68356976e-01, 2.13291564e-01, 6.18351460e-01],\n",
       "       [6.61532237e-01, 2.15390040e-01, 1.23077723e-01],\n",
       "       [1.11275045e-01, 4.09008271e-04, 8.88315947e-01],\n",
       "       [1.40130146e-01, 1.87474902e-01, 6.72394952e-01],\n",
       "       [1.02416822e-01, 2.04873339e-01, 6.92709838e-01],\n",
       "       [5.55237660e-01, 2.15672140e-01, 2.29090200e-01],\n",
       "       [4.28436221e-01, 2.65223181e-01, 3.06340598e-01],\n",
       "       [1.11713922e-01, 2.30776309e-01, 6.57509770e-01],\n",
       "       [2.78329105e-02, 1.03248815e-01, 8.68918274e-01],\n",
       "       [2.29293826e-01, 2.41624672e-01, 5.29081502e-01],\n",
       "       [3.55621458e-01, 2.99145775e-01, 3.45232767e-01],\n",
       "       [7.93177545e-02, 1.84611905e-01, 7.36070340e-01],\n",
       "       [1.72764409e-01, 2.46062051e-01, 5.81173539e-01],\n",
       "       [5.89604614e-01, 2.58322293e-01, 1.52073093e-01],\n",
       "       [6.62487960e-01, 2.09297603e-01, 1.28214437e-01],\n",
       "       [3.86904717e-01, 2.87744713e-01, 3.25350570e-01],\n",
       "       [1.81855158e-01, 2.18188867e-01, 5.99955975e-01],\n",
       "       [5.23540752e-01, 2.09405670e-01, 2.67053578e-01],\n",
       "       [3.96755467e-01, 1.69098338e-01, 4.34146195e-01],\n",
       "       [6.03474117e-01, 1.68389249e-01, 2.28136633e-01],\n",
       "       [5.83773969e-01, 2.56112737e-01, 1.60113295e-01],\n",
       "       [3.84186304e-01, 2.88367528e-01, 3.27446167e-01],\n",
       "       [1.97062185e-01, 2.42453147e-01, 5.60484668e-01],\n",
       "       [1.17556061e-01, 2.29395079e-01, 6.53048860e-01],\n",
       "       [3.93215849e-01, 2.79339762e-01, 3.27444389e-01],\n",
       "       [1.76364843e-01, 1.46845862e-03, 8.22166698e-01],\n",
       "       [2.42128453e-01, 2.15179799e-01, 5.42691748e-01]])"
      ]
     },
     "execution_count": 460,
     "metadata": {},
     "output_type": "execute_result"
    }
   ],
   "source": [
    "#0.6891891891891891 'MACD_12_26_9', 'MACDh_12_26_9','RSI_5', 'RSI_10', 'RSI_15'\n",
    "clf.predict_proba(X_test)"
   ]
  },
  {
   "cell_type": "code",
   "execution_count": 461,
   "metadata": {},
   "outputs": [],
   "source": [
    "import pickle"
   ]
  },
  {
   "cell_type": "code",
   "execution_count": 462,
   "metadata": {},
   "outputs": [],
   "source": [
    "#Save model\n",
    "filename='./model/MLP689.pkl'\n",
    "with open(filename, 'wb') as file:\n",
    "  pickle.dump(svc, file)\n",
    "  "
   ]
  },
  {
   "cell_type": "code",
   "execution_count": 176,
   "metadata": {},
   "outputs": [],
   "source": [
    "#Load model\n",
    "with open(filename, 'rb') as file:\n",
    "    model = pickle.load(file)\n"
   ]
  },
  {
   "cell_type": "code",
   "execution_count": 179,
   "metadata": {},
   "outputs": [],
   "source": []
  },
  {
   "cell_type": "code",
   "execution_count": null,
   "metadata": {},
   "outputs": [],
   "source": []
  }
 ],
 "metadata": {
  "kernelspec": {
   "display_name": "Python 3.9.7 64-bit",
   "language": "python",
   "name": "python3"
  },
  "language_info": {
   "codemirror_mode": {
    "name": "ipython",
    "version": 3
   },
   "file_extension": ".py",
   "mimetype": "text/x-python",
   "name": "python",
   "nbconvert_exporter": "python",
   "pygments_lexer": "ipython3",
   "version": "3.9.7"
  },
  "orig_nbformat": 4,
  "vscode": {
   "interpreter": {
    "hash": "aee8b7b246df8f9039afb4144a1f6fd8d2ca17a180786b69acc140d282b71a49"
   }
  }
 },
 "nbformat": 4,
 "nbformat_minor": 2
}
